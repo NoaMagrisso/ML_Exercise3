{
  "cells": [
    {
      "cell_type": "markdown",
      "metadata": {
        "id": "6DvsZf4zLJ6L"
      },
      "source": [
        "**Assignment 3**\n",
        "\n",
        "Submitted by:\n",
        "\n",
        "Noa Magrisso - 206934978\n",
        "\n",
        "Shaked Tayouri - 323866749"
      ]
    },
    {
      "cell_type": "markdown",
      "source": [
        "# Initial Steps"
      ],
      "metadata": {
        "id": "W27U0a4TmPkU"
      }
    },
    {
      "cell_type": "markdown",
      "source": [
        "## Drive Connecting"
      ],
      "metadata": {
        "id": "eiSXqKTEH1fX"
      }
    },
    {
      "cell_type": "code",
      "execution_count": 1,
      "metadata": {
        "colab": {
          "base_uri": "https://localhost:8080/"
        },
        "id": "51Dq4nanLVsT",
        "outputId": "90cd512f-8ca3-4612-c8a7-67b32a5dce9d"
      },
      "outputs": [
        {
          "output_type": "stream",
          "name": "stdout",
          "text": [
            "Mounted at /content/drive\n"
          ]
        }
      ],
      "source": [
        "from google.colab import drive\n",
        "drive.mount('/content/drive', force_remount=True)"
      ]
    },
    {
      "cell_type": "code",
      "execution_count": 2,
      "metadata": {
        "colab": {
          "base_uri": "https://localhost:8080/"
        },
        "id": "a3QkwSTuLY25",
        "outputId": "9f4446b1-943b-414d-f0b9-81c1d1f18683"
      },
      "outputs": [
        {
          "output_type": "stream",
          "name": "stdout",
          "text": [
            " 0089fcf1-015b-4d00-9dc8-e146fa7a0f17.jpg\n",
            " 05b70286-db90-440a-a24c-7511d0b051a4.jpg\n",
            " 08a177ef-2cd6-4aab-ac92-debd2f21afa4.jpg\n",
            " 0aa23539-f0ff-4f2c-96af-6b0deef5dae0.jpg\n",
            " 0bf55613-771c-4b30-a4c7-3d6705011fc4.jpg\n",
            " 0ccffaf9-7371-4cf9-8bf8-ad520b621d59.jpg\n",
            " 0e10067f-52fd-47b4-8d60-603a40257808.jpg\n",
            "'1019195_5_11_2017_10_39_31_AM_PolicyConfirmation (1).html.gdoc'\n",
            " 1019195_5_11_2017_10_39_31_AM_PolicyConfirmation.html.gdoc\n",
            " 1019195_9_26_2017_4_56_48_AM_PolicyConfirmation.html.gdoc\n",
            " 1177ea0a-dc8d-4812-afcb-c2968af39254.jpg\n",
            " 134ac949-244f-45cc-b9df-cc18f819ef3f.jpg\n",
            " 1396689d-28c8-415b-aae0-e2b7e33258ed.jpg\n",
            " 1647acda-3344-434b-bc6f-6363abd97ecd.jpg\n",
            " 18bff457-3cb8-45bc-a75d-2eb6ea4fc1a9.jpg\n",
            " 1bc5cce3-036b-4e4e-888c-8ea758d1aeb0.jpg\n",
            " 1bc6ecb2-8125-439b-8068-1cfe5b2765d6.jpg\n",
            " 1df7c7f6-f941-4f52-983f-f8e5b48d3389.jpg\n",
            " 20160604_120904.jpg\n",
            " 20160713_200325.jpg\n",
            " 20161031_185243.jpg\n",
            " 20161031_185250.jpg\n",
            " 20161031_185316.jpg\n",
            " 20161031_185339.jpg\n",
            " 20161113_120635.jpg\n",
            " 20161113_120636.jpg\n",
            " 20161113_120639.jpg\n",
            " 20161113_123839.jpg\n",
            " 20161113_123840.jpg\n",
            "'20170122_184749 (1).jpg'\n",
            " 20170122_184749.jpg\n",
            "'20170313_122224 (1).jpg'\n",
            " 20170313_122224.jpg\n",
            "'20170313_122352 (1).jpg'\n",
            " 20170313_122352.jpg\n",
            " 20170530_193401_HDR.jpg\n",
            " 20170530_193423_HDR.jpg\n",
            " 20170530_193802_HDR.jpg\n",
            " 20170530_220224_HDR.jpg\n",
            " 20170530_220227_HDR.jpg\n",
            " 20170530_220231_HDR.jpg\n",
            " 20170708_182151_HDR.jpg\n",
            " 20170708_182214_HDR.jpg\n",
            " 20170708_182244_HDR.jpg\n",
            " 20170708_182343_HDR.jpg\n",
            " 20170807_212149_HDR.jpg\n",
            " 20170807_212151_HDR.jpg\n",
            " 20170824_231327.mp4\n",
            " 20170824_231341.mp4\n",
            " 20170824_231606.jpg\n",
            " 20170824_231607.jpg\n",
            " 20170902_170126.dng\n",
            " 20170930_164944.jpg\n",
            " 20171001_183354.jpg\n",
            " 20171001_190436.jpg\n",
            " 20171002_165101.jpg\n",
            " 20171117_195606_HDR.jpg\n",
            " 20171117_195615.mp4\n",
            " 20171117_195635_HDR.jpg\n",
            " 20171117_200130.mp4\n",
            " 20171117_204245_HDR.jpg\n",
            " 20171117_204425_HDR.jpg\n",
            "'20171117_204628_HDR (1).jpg'\n",
            " 20171117_204628_HDR.jpg\n",
            "'20171117_204652 (1).jpg'\n",
            " 20171117_204652.jpg\n",
            "'20171117_204701 (1).jpg'\n",
            " 20171117_204701.jpg\n",
            "'20171117_204716 (1).jpg'\n",
            " 20171117_204716.jpg\n",
            " 20171117_204734.mp4\n",
            " 20171117_204749.jpg\n",
            "'20171117_204829 (1).mp4'\n",
            " 20171117_204829.mp4\n",
            " 20171117_212409.jpg\n",
            "'20171117_212705_HDR (1).jpg'\n",
            " 20171117_212705_HDR.jpg\n",
            "'20171117_212716_HDR (1).jpg'\n",
            " 20171117_212716_HDR.jpg\n",
            "'20171117_215434_HDR (1).jpg'\n",
            " 20171117_215434_HDR.jpg\n",
            "'20171117_220431_HDR (1).jpg'\n",
            " 20171117_220431_HDR.jpg\n",
            "'20171117_221937_HDR-1 (1).jpg'\n",
            " 20171117_221937_HDR-1.jpg\n",
            "'20171207_211003_HDR (1).jpg'\n",
            " 20171207_211003_HDR.jpg\n",
            "'20171229_221755 (1).jpg'\n",
            " 20171229_221755.jpg\n",
            " 20180105_131827.jpg\n",
            "'20180106_182149 (1).jpg'\n",
            " 20180106_182149.jpg\n",
            "'20180106_200435 (1).jpg'\n",
            " 20180106_200435.jpg\n",
            " 20180120_135018.mp4\n",
            " 20180120_135045.jpg\n",
            "'20180120_141033 (1).jpg'\n",
            " 20180120_141033.jpg\n",
            " 20180120_141037.jpg\n",
            " 20180209_230218.jpg\n",
            "'20180209_230221 (1).jpg'\n",
            " 20180209_230221.jpg\n",
            " 20180209_230254.jpg\n",
            "'20180209_230317 (1).jpg'\n",
            " 20180209_230317.jpg\n",
            "'20180302_195919 (1).jpg'\n",
            " 20180302_195919.jpg\n",
            "'20180302_195925 (1).jpg'\n",
            " 20180302_195925.jpg\n",
            " 20180316_194346.jpg\n",
            " 20180323_213534.mp4\n",
            " 20180324_170245.jpg\n",
            " 20180330_205733.jpg\n",
            " 20180330_205803.jpg\n",
            " 20180330_205815.jpg\n",
            " 20180331_110450.jpg\n",
            " 20180331_110455.jpg\n",
            " 20180331_131906.jpg\n",
            " 20180331_131911.jpg\n",
            " 20180331_205123.jpg\n",
            "'20180406_133620(0).jpg'\n",
            " 20180406_165852.jpg\n",
            " 20180406_165854.mp4\n",
            " 20180407_092641.jpg\n",
            " 20180420_130331.jpg\n",
            " 20180420_130332.jpg\n",
            " 20180420_130350.jpg\n",
            " 20180420_130355.jpg\n",
            " 20180420_130418.jpg\n",
            " 20180420_130450.jpg\n",
            " 20180420_130453.jpg\n",
            " 20180420_130455.jpg\n",
            " 20180420_130517.jpg\n",
            " 20180420_130518.jpg\n",
            " 20180505_150218.jpg\n",
            " 20180505_150248.jpg\n",
            " 20180511_205502.jpg\n",
            "'20180511_205520(0).jpg'\n",
            " 20180511_205520.jpg\n",
            " 20180512_115843.mp4\n",
            " 20180512_120033.jpg\n",
            " 20180512_123711.jpg\n",
            " 20180512_123722.jpg\n",
            " 20180512_124843.jpg\n",
            " 20180512_145800.jpg\n",
            " 20180714_141149.jpg\n",
            "\"2021-03-22 23.32.17 Noa Magrisso's Zoom Meeting 71553036351.zip\"\n",
            " 20210929_115149_2.jpg\n",
            " 2023-491453582_20230921_210400.pdf\n",
            " 202eb14a-a62c-427d-ab7c-e58122ece855.jpg\n",
            " 2158bf5d-6524-42cf-8abb-a04bfe69024e.jpg\n",
            " 26a46538-1513-4331-87a1-c53bc18d2848.jpg\n",
            "'276386cc-063a-4689-956a-7c8459b49c1d (1).jpg'\n",
            " 276386cc-063a-4689-956a-7c8459b49c1d.jpg\n",
            " 2a7c2115-3f4b-4383-be09-5b54421cfc8e.jpg\n",
            " 2d0ff08d-1d87-420e-bb55-b0ac3bb8bf22.jpg\n",
            " 2d3e920e-7b9a-4e0a-be55-e1340cea8681.jpg\n",
            " 3183e659-fd0f-405f-8619-0d34f97c2b3b.jpg\n",
            " 33827141-a9da-4f5b-9fa1-342e5b6f8548.jpg\n",
            " 345e98fe-6953-4057-9d58-b0b9eec69e22.jpg\n",
            " 34772239-2fff-42de-aa24-8f0eae8105e7.jpg\n",
            " 34ba5fbd-7cc6-4dde-b4f0-976a8f3cb0f9.jpg\n",
            " 34c251d6-5713-44ba-a279-8470b4f377cb.jpg\n",
            " 351f57f7-3d63-4610-9563-a2bfc20b763b.jpg\n",
            " 37e65b85-1ed3-4986-aabb-8ad57d19715a.jpg\n",
            " 385ebf53-2fbb-4dec-898d-c97fd4f2f672.jpg\n",
            " 3aca48a9-d93c-446e-9c67-17b8006b344e.jpg\n",
            " 3ae8fdda-aa19-4a25-a334-f2266d7400f4.jpg\n",
            " 3d316674-37cd-47b2-b8ee-70ecd19f3b11.jpg\n",
            " 3dacd0f5-ae2f-4060-bc86-0d4f38bb4b91.jpg\n",
            " 3dce7c29-bd68-40e6-81ef-2c8c3c256862.jpg\n",
            " 3e14a899-cc54-475f-9397-f68ceed14e30.jpg\n",
            " 3fecd52f-fe6f-4ca0-b1bb-83ddb209cd6b.jpg\n",
            " 405bad99-93ae-4b31-a03d-05aee1acf936.jpg\n",
            " 40b3d832-3d23-4340-bbf9-3d855edb048d.jpg\n",
            " 454ddcea-fce0-485e-8a75-ec11c64c7ded.jpg\n",
            " 464f0b32-19b7-483e-9242-23e4b21fd45b.jpg\n",
            " 46776284-1ff5-4637-a1d5-0ed8a86bc618.jpg\n",
            " 46ec42d5-6160-42d0-a0c2-cf98c9d808fa.jpg\n",
            " 47e104f2-86fd-4af0-a291-1394e3f4feff.jpg\n",
            " 47ec139c-676f-477e-b34b-4f52725a32a3.jpg\n",
            " 49390857-dc0a-499a-ab20-4ea78c037518.jpg\n",
            " 4bba3acf-49ad-487d-90cb-ee3cef9b39da.jpg\n",
            " 4bd80c09-f8e7-463a-b526-66398349799d.jpg\n",
            " 4e66651e-53ce-4a8e-a336-a92dfa2c2c44.jpg\n",
            " 4e9bbaee-68ae-4c96-9ef5-248be32b7b24.jpg\n",
            " 4f8ddfd5-d53b-4309-bc89-0f2689a601f3.jpg\n",
            " 5015b628-2949-4047-960c-f93c90dd0911.jpg\n",
            " 516bbd86-6e4f-48e9-a948-ac53b5f93301.jpg\n",
            " 5306dde2-3fd0-4460-be02-e61913668ea3.jpg\n",
            " 55341bd5-f2ba-4542-b8b5-878f50c92f0a.jpg\n",
            " 5559d97b-160a-47cf-b022-6bdab0f60b2f.jpg\n",
            " 55f8ea2d-4e93-44db-8a2b-d46b8274b070.jpg\n",
            " 5721598a-be6e-46cf-a8ec-8730abda761b.jpg\n",
            " 5a81ac22-09fc-4436-9d46-2e7a3b93f460.jpg\n",
            " 5b5133b2-8b52-4ffe-8542-a0c180f52252.jpg\n",
            " 5c589001-2d9a-4461-aa6c-bc307463a382.jpg\n",
            " 5e5ce52a-c8ea-42bd-809a-5b7c12d24eb3.jpg\n",
            " 5eb14de0-1a08-465c-a5cc-906707f45ea1.jpg\n",
            " 64505902-3640-4212-b4d1-a5b2febab08f.jpg\n",
            " 64afb6ce-1fc5-4b88-a6b6-26b0d1ea414d.jpg\n",
            " 66495090-eee0-4c2e-8ab9-f4dbffb4b90c.jpg\n",
            " 6656aca4-b1fc-436d-9ed5-d6409f5e37d9.jpg\n",
            " 6800c290-092e-495f-9444-b903354fd272.jpg\n",
            " 680ec7b0-b1b9-4c24-80af-877eda0e7c92.jpg\n",
            " 684f77cb-2462-4f6e-99de-16fae971a524.jpg\n",
            " 68a346fc-8e3c-44e5-99a3-76d71eb7ea04.jpg\n",
            " 6943ee27-1322-41b6-b868-b2b8a2fb6de1.jpg\n",
            " 6b11c65f-28ff-432d-bbeb-2982150eab23.jpg\n",
            " 6b721c0c-c4de-49ad-84a0-f8bec4abeb76.jpg\n",
            " 6d0ec64e-aa50-4918-9b13-f3742e198971.jpg\n",
            " 6e1dc468-ee76-4de7-925c-52362787c03f.jpg\n",
            " 6e967ee5-f187-4be4-960a-6949762c189c.jpg\n",
            " 6f6f79aa-241f-4f9c-8df5-04797dbc6d7f.jpg\n",
            " 719a039b-c65a-4b98-abed-1feb5fdf2467.jpg\n",
            " 71b7bbb4-f2e8-4cf5-9eb9-950acf007bab.jpg\n",
            " 72a2c664-69e1-4788-9e6b-0d78ca76e235.jpg\n",
            " 740d2c34-ec25-4a44-9c12-108e123d1acc.jpg\n",
            " 74edfd41-8ef4-4477-b6cf-d849ad6a6986.jpg\n",
            " 757900f1-cd04-4d03-8886-f741c3914da5.jpg\n",
            " 77c9144b-bdfd-4241-8f3e-5d4242562082.jpg\n",
            " 789d5d59-0192-4f55-90d5-263c97343358.jpg\n",
            " 7a5a602a-a011-40a0-b196-d07d5f230d55.jpg\n",
            " 7cbc278a-828f-4e12-88b5-6b9ccb4f98ac.jpg\n",
            " 7cde76e1-413d-4226-a226-3b00e67e59d6.jpg\n",
            " 7dede867-3d7c-4963-b98b-20cdaa81d4cb.jpg\n",
            " 7fc3fb61-cb84-4217-b114-99d17979ef1e.jpg\n",
            " 83d3dd0a-c992-4d5a-af93-b545296f6b33.jpg\n",
            " 878ea9c6-4288-4553-9313-a78ebe1e9f01.jpg\n",
            " 87b8ae1e-4bf7-4249-8a88-00059035f0f8.jpg\n",
            " 88f8ebba-03b5-44f4-b55d-4557c6bc059d.jpg\n",
            " 8ab720ae-5a28-462a-8345-78be81d8edb0.jpg\n",
            " 8d2e0c5b-5fd9-4cb5-8e7d-c423700721b1.jpg\n",
            " 93e6fe63-dbc1-4535-a7ec-4490fb407125.jpg\n",
            " 94dc56a9-d811-490d-b478-8be7f90cc536.jpg\n",
            " 96e379e6-be42-464e-8d1a-b0b1034c25e1.jpg\n",
            " 980af264-f86c-45ea-8cfd-db8eae74cc01.jpg\n",
            " 9ac3ebb7-6169-4698-8e73-9c3d4c0312ec.jpg\n",
            " 9d90f1e7-be0a-4b3e-97b2-3facd642cb32.jpg\n",
            " 9eb9e7e8-6be0-4239-aec3-53625de5d644.jpg\n",
            " a40d9e01-acbb-4169-95b1-8431719776ae.jpg\n",
            " a56be365-24da-4e81-9916-63b57f9130d1.jpg\n",
            " a5f8d6d9-ca31-4b69-b4c5-811d67e1caec.jpg\n",
            " a6990744-429a-4966-8a13-add2a5fe2e00.jpg\n",
            " a76557fa-ffa7-409b-a762-df36e3355126.jpg\n",
            " a907d2a2-0d42-4341-9ae9-bf6fd992f046.jpg\n",
            " a9b9536d-66de-4314-bd8d-ad5004259352.jpg\n",
            "'AAI-1-Introduction (1).pptx'\n",
            " AAI-1-Introduction.pptx\n",
            "'AAI-3-Blind search (1).pptx'\n",
            "'AAI-3-Blind search.pptx'\n",
            " ac1ec888-2a30-4c64-95c4-f7be721e9d3e.jpg\n",
            " ac60e160-5146-4195-8199-dc67f1132bc1.jpg\n",
            " ac9de23a-4eaf-430d-9a68-5659b74b6a76.jpg\n",
            " ace52475-ae15-4ee2-a431-9fdd1035ce60.jpg\n",
            " ad1fa334-4cb8-4a04-8051-14fa88889d43.jpg\n",
            " adb1a2f6-5e1d-4c16-bcb2-a5fb4155167d.jpg\n",
            " afb1e2df-01c7-4e2e-829e-d5eeb296516f.jpg\n",
            "'AI Developer Task 310724.docx'\n",
            "'Architecture Diagram'\n",
            "'Auto Call Recorder'\n",
            " b02092b7-4eba-440d-b399-7d2180f481d3.jpg\n",
            " b10f44c8-7af2-477b-a472-b4797cff1c5c.jpg\n",
            " b30e730b-4a31-40df-90ed-a934afa6a052.jpg\n",
            " b38ab26e-f181-4c44-9699-8cdd593acb7b.jpg\n",
            " b5c1d783-3193-4a76-bd8a-2c6604a2945b.jpg\n",
            " b6d28df6-733f-4992-b28b-062d42d6bba6.jpg\n",
            " b7075c78-c044-45aa-bd09-d02d7240b69a.jpg\n",
            " b84d0122-9bf9-4756-bffc-cec60f3a216f.jpg\n",
            " bc301763-c3d3-4c28-baca-bf6a81ef5fbc.jpg\n",
            " bc52c248-52fc-4997-a3dd-fdfa1d40881a.jpg\n",
            " bdeeb2f9-8a50-4e5e-9c5d-0177763c386c.jpg\n",
            " bf2d3f4c-753c-478f-860e-1416c897402b.jpg\n",
            " bf666ae1-0ed9-4d03-806e-6d6ce5787e48.jpg\n",
            " BINA-EXAM.zip\n",
            "'B & Y.gdoc'\n",
            " c17dc67c-6072-4553-bf01-c7e1aba6b101.jpg\n",
            " c1964af3-c07c-411f-b8aa-218efb2832ee.jpg\n",
            " c2258dae-8d1b-4b0f-9bf3-a86c644cc825.jpg\n",
            " c4e3bd67-3c50-4ce7-bb7a-0be52f4d38db.jpg\n",
            " c57aee44-04fd-4d97-b177-1be2b536a778.jpg\n",
            " c87192b1-33bc-4cbd-9858-83e19c3ef633.jpg\n",
            " cb88b58d-1818-4dc8-9012-e7446f90f9cf.jpg\n",
            " cc175fe5-15d6-422a-acc2-dbb0d13d0c4e.jpg\n",
            " cc946ce7-7a8b-48d9-8ee1-500f3822eed6.jpg\n",
            " cd0a7db3-9d26-4afa-adbd-0f27cfe58bc3.jpg\n",
            " cd75bd6a-71e7-4937-a9f4-fbacbded0f46.jpg\n",
            " ch11.ipynb\n",
            " Classroom\n",
            "'Colab Notebooks'\n",
            "'Competitors (1).drawio'\n",
            "'Copy of Architecture Diagram.drawio'\n",
            " d2c1d0e8-afdd-4409-9504-b1d2b1900cb9.jpg\n",
            " d57b45e3-232e-48d0-851f-2176ec6bda14.jpg\n",
            " d8d44275-d1b5-4955-86fa-618c2338a145.jpg\n",
            " d8dcfad9-a236-4176-a0cc-85f8e36d1f2b.jpg\n",
            " d9f261d6-a70e-4c12-81ec-11442d80578e.jpg\n",
            " Data_Mining\n",
            " dc8907e5-0f35-4383-b67b-0f8124a19e57.jpg\n",
            " de6b1ad1-a90e-4780-8e95-24714b65816d.jpg\n",
            " dfb704c0-7073-499f-9571-5ac1f0f4cb83.jpg\n",
            " e244881a-6372-43fe-a273-2e421909dd43.jpg\n",
            " e2923cf6-4af6-4dd9-80d9-a36ba6941196.jpg\n",
            " e5258b46-9fb1-4d87-ad93-9d9c2fb5db7c.jpg\n",
            " e5ff594f-3640-4819-99ba-2807df6a9fdf.jpg\n",
            "'e62c7a53-f8e3-417c-a22e-a1b75e646d8d (1).jpg'\n",
            " e62c7a53-f8e3-417c-a22e-a1b75e646d8d.jpg\n",
            " e7b131c3-3601-49e0-8523-d66f337b36ef.jpg\n",
            " eab90942-22f7-4075-af2e-0c4960736a71.jpg\n",
            " eafe0feb-031a-47eb-969e-0bb692a4ba66.jpg\n",
            " eb0c0795-870e-418b-a345-1c1e8a1440c4.jpg\n",
            " ebb9df16-358f-42a3-bb9b-7a48c0e4f958.jpg\n",
            " ee7f09e3-617b-47a5-8931-a1c28dec0b6a.jpg\n",
            " ef2165ee-9658-44eb-9fda-63a4ecd869ff.jpg\n",
            " entity\n",
            " ERD\n",
            "'ERD draft (1).drawio.pdf'\n",
            "'ERD draft (2).drawio.pdf'\n",
            "'ERD draft.drawio.pdf'\n",
            " f0641f08-bedf-44f7-9683-ab1e1576cb26.jpg\n",
            " f07a17f2-b928-4fe9-adef-06ffcb36fb2f.jpg\n",
            " f1e5210b-6c7c-4b7c-b4a7-62c476dd8729.jpg\n",
            " f21b9d4b-31a9-4b02-a327-ca9955ed6634.jpg\n",
            " f7aec4d3-a420-4013-a3c4-fa4c44607efb.jpg\n",
            " f98520a3-07d4-46ce-829f-b910408e9822.jpg\n",
            " FB_IMG_1526387756530.jpg\n",
            " FB_IMG_1526387768391.jpg\n",
            " FB_IMG_1526387829743.jpg\n",
            " FB_IMG_1526387840498.jpg\n",
            " FB_IMG_1526387888215.jpg\n",
            " FB_IMG_1526387891168.jpg\n",
            " FB_IMG_1526387896567.jpg\n",
            " FB_IMG_1526387907172.jpg\n",
            " FB_IMG_1526387916402.jpg\n",
            " FB_IMG_1526387932686.jpg\n",
            " FB_IMG_1526387941905.jpg\n",
            "'fixed2_improved_sentence_roles (1).gsheet'\n",
            " fixed2_improved_sentence_roles.gsheet\n",
            "'Flow2 (1).drawio'\n",
            " hw9\n",
            "'IDSCC 2024_ L1  - Intro to Data Science.gslides'\n",
            " IMG-20160130-WA0076.jpg\n",
            " IMG-20160130-WA0078.jpg\n",
            " IMG-20160130-WA0087.jpg\n",
            " IMG-20160228-WA0001.jpg\n",
            " IMG-20160228-WA0005.jpg\n",
            " IMG-20160228-WA0033.jpg\n",
            " IMG-20160305-WA0025.jpg\n",
            " IMG-20160601-WA0163.jpg\n",
            " IMG-20160601-WA0166.jpg\n",
            " IMG-20160601-WA0167.jpg\n",
            " IMG-20160601-WA0205.jpg\n",
            " IMG-20160601-WA0208.jpg\n",
            " IMG-20160611-WA0023.jpg\n",
            " IMG-20160919-WA0000.jpg\n",
            " IMG-20160919-WA0001.jpg\n",
            " IMG-20160919-WA0002.jpg\n",
            " IMG-20160923-WA0052.jpg\n",
            " IMG-20160923-WA0059.jpg\n",
            " IMG-20160923-WA0064.jpg\n",
            " IMG-20161031-WA0042.jpg\n",
            " IMG-20161113-WA0008.jpg\n",
            " IMG-20170118-WA0035.jpg\n",
            " IMG-20170118-WA0106.jpg\n",
            " IMG-20170118-WA0110.jpg\n",
            " IMG-20170118-WA0112.jpg\n",
            " IMG-20170118-WA0113.jpg\n",
            " IMG-20170118-WA0114.jpg\n",
            " IMG-20170118-WA0115.jpg\n",
            " IMG-20170419-WA0001.jpg\n",
            " IMG-20170620-WA0006.jpg\n",
            " IMG_20170703_235205_712.jpg\n",
            " IMG-20170705-WA0005.jpg\n",
            " IMG-20170707-WA0011.jpg\n",
            " IMG-20170710-WA0005.jpg\n",
            " IMG-20170826-WA0044.jpg\n",
            " IMG-20170826-WA0046.jpg\n",
            " IMG-20170826-WA0051.jpg\n",
            " IMG-20170826-WA0100.jpg\n",
            " IMG-20170918-WA0024.jpg\n",
            " IMG-20170918-WA0028.jpg\n",
            " IMG-20170918-WA0031.jpg\n",
            " IMG-20170918-WA0067.jpg\n",
            " IMG-20170918-WA0075.jpg\n",
            " IMG-20170918-WA0182.jpg\n",
            " IMG-20170918-WA0183.jpg\n",
            " IMG-20170918-WA0184.jpg\n",
            " IMG-20170918-WA0186.jpg\n",
            " IMG-20170918-WA0188.jpg\n",
            " IMG-20170918-WA0190.jpg\n",
            " IMG-20170918-WA0192.jpg\n",
            " IMG-20170918-WA0193.jpg\n",
            " IMG-20170918-WA0194.jpg\n",
            " IMG-20170918-WA0197.jpg\n",
            " IMG_20170919_195215_953.jpg\n",
            " IMG-20170929-WA0017.jpg\n",
            " IMG-20170930-WA0014.jpg\n",
            " IMG-20170930-WA0015.jpg\n",
            " IMG-20171009-WA0077.jpg\n",
            " IMG-20171013-WA0036.jpg\n",
            " IMG-20171013-WA0042.jpg\n",
            " IMG-20171113-WA0136.jpg\n",
            " IMG-20171114-WA0027.jpg\n",
            " IMG-20171114-WA0051.jpg\n",
            " IMG-20171116-WA0086.jpg\n",
            " IMG-20171117-WA0181-1-1.jpg\n",
            " IMG-20171117-WA0192.jpg\n",
            " IMG-20171123-WA0094.jpg\n",
            " IMG-20171125-WA0007.jpg\n",
            " IMG-20171201-WA0005.jpg\n",
            " IMG-20171202-WA0005.jpg\n",
            " IMG-20171202-WA0012.jpg\n",
            " IMG-20171202-WA0020.jpg\n",
            " IMG-20171202-WA0031.jpg\n",
            " IMG-20171206-WA0061.jpg\n",
            " IMG-20171229-WA0000.jpg\n",
            " IMG-20171229-WA0001.jpg\n",
            " IMG-20171229-WA0003.jpg\n",
            " IMG-20171230-WA0062.jpg\n",
            " IMG-20171230-WA0063.jpg\n",
            " IMG-20171230-WA0064.jpg\n",
            " IMG-20171230-WA0078.jpg\n",
            " IMG-20180114-WA0038.jpg\n",
            " IMG-20180114-WA0108.jpg\n",
            " IMG-20180119-WA0043.jpg\n",
            " IMG-20180119-WA0045.jpg\n",
            " IMG-20180119-WA0046.jpg\n",
            " IMG-20180204-WA0027.jpg\n",
            " IMG-20180212-WA0044.jpg\n",
            "'IMG-20180222-WA0039 (1).jpg'\n",
            " IMG-20180222-WA0039.jpg\n",
            " IMG-20180223-WA0002.jpg\n",
            " IMG-20180223-WA0007.jpg\n",
            " IMG-20180224-WA0000.jpg\n",
            " IMG-20180224-WA0001.jpg\n",
            " IMG-20180228-WA0044.jpg\n",
            " IMG-20180303-WA0039.jpg\n",
            " IMG-20180303-WA0053.jpg\n",
            " IMG-20180303-WA0059.jpg\n",
            " IMG-20180303-WA0062.jpg\n",
            " IMG-20180303-WA0149.jpg\n",
            " IMG-20180404-WA0134.jpg\n",
            " IMG-20180404-WA0135.jpg\n",
            " IMG-20180404-WA0151.jpg\n",
            " IMG-20180416-WA0007.jpg\n",
            " IMG-20180416-WA0022.jpg\n",
            " IMG-20180417-WA0088.jpg\n",
            " IMG-20180417-WA0089.jpg\n",
            " IMG-20180417-WA0090.jpg\n",
            " IMG-20180417-WA0094.jpg\n",
            " IMG-20180417-WA0095.jpg\n",
            " IMG-20180417-WA0096.jpg\n",
            " IMG-20180417-WA0097.jpg\n",
            " IMG-20180417-WA0100.jpg\n",
            " IMG-20180420-WA0035.jpg\n",
            " IMG-20180428-WA0015.jpg\n",
            " IMG-20180429-WA0048.jpg\n",
            " IMG_20180504_103147_139.jpg\n",
            " IMG-20180505-WA0021.jpg\n",
            " IMG-20180508-WA0070.jpg\n",
            " IMG-20180511-WA0036.jpg\n",
            " IMG-20180511-WA0041.jpg\n",
            " IMG-20180511-WA0042.jpg\n",
            " IMG-20180511-WA0043.jpg\n",
            " IMG-20180511-WA0044.jpg\n",
            " IMG-20180511-WA0045.jpg\n",
            " IMG-20180511-WA0046.jpg\n",
            " IMG-20180511-WA0048.jpg\n",
            " IMG-20180511-WA0049.jpg\n",
            " IMG-20180511-WA0050.jpg\n",
            " IMG-20180511-WA0051.jpg\n",
            " IMG-20180511-WA0076.jpg\n",
            " IMG_20180512_132503_649.jpg\n",
            " IMG-20180512-WA0048.jpg\n",
            " IMG-20180513-WA0019.jpg\n",
            " IMG-20180513-WA0021.jpg\n",
            " IMG-20180513-WA0022.jpg\n",
            " IMG-20180513-WA0023.jpg\n",
            " IMG-20180513-WA0024.jpg\n",
            " IMG-20180513-WA0025.jpg\n",
            " IMG-20180513-WA0072.jpg\n",
            " IMG-20180513-WA0074.jpg\n",
            " IMG-20180513-WA0076.jpg\n",
            " IMG-20180513-WA0077.jpg\n",
            " IMG-20180513-WA0078.jpg\n",
            " IMG-20180513-WA0079.jpg\n",
            " IMG-20180513-WA0080.jpg\n",
            " IMG-20180514-WA0039.jpg\n",
            "'IMG-20180515-WA0001 (1).jpg'\n",
            " IMG-20180515-WA0001.jpg\n",
            " IMG-20180728-WA0000.jpeg\n",
            " IMG-20180728-WA0002.jpeg\n",
            " IMG-20180728-WA0007.jpeg\n",
            " IMG-20180728-WA0009.jpeg\n",
            " IMG-20180728-WA0014.jpeg\n",
            " IMG-20180728-WA0016.jpeg\n",
            " IMG-20180728-WA0029.jpeg\n",
            " IMG-20180728-WA0045.jpg\n",
            " IMG-20180728-WA0047.jpeg\n",
            " IMG-20180728-WA0049.jpeg\n",
            " IMG-20180728-WA0051.jpeg\n",
            " IMG-20180728-WA0054.jpg\n",
            " IMG_8334.PNG\n",
            " IMG_8576.JPG\n",
            " IMG_8581.PNG\n",
            " IMG_8582.PNG\n",
            " IMG_8583.PNG\n",
            " IMG_8594.PNG\n",
            " IMG_8595.PNG\n",
            " IMG_8605.JPG\n",
            " IMG_8606.JPG\n",
            " IMG_8607.JPG\n",
            " IMG_8608.JPG\n",
            " IMG_8622.PNG\n",
            " IMG_8628.PNG\n",
            " IMG_8629.PNG\n",
            " IMG_8631.PNG\n",
            " IMG_8632.PNG\n",
            " IMG_8634.PNG\n",
            " IMG_8635.PNG\n",
            " IMG_8636.PNG\n",
            " IMG_8637.PNG\n",
            " IMG_8640.PNG\n",
            " IMG_8739.PNG\n",
            " IMG_8746.PNG\n",
            " IMG_8747.PNG\n",
            " IMG_8748.PNG\n",
            " IMG_8749.PNG\n",
            " IMG_8750.PNG\n",
            " Intel_DS_Position_Interview\n",
            " L_1_Intro.pdf\n",
            " L_1_Intro.pptx\n",
            " LLM_attack\n",
            " MickyFire_Project\n",
            " ML_Exercise3\n",
            " Noa\n",
            "'Noa ~ Ido'\n",
            "'Noa Magrisso Academic Record.pdf'\n",
            "'Noa Magrisso CV (1).pdf'\n",
            "'Noa Magrisso CV (2).pdf'\n",
            "'Noa Magrisso - CV.docx'\n",
            "'Noa Magrisso CV.pdf'\n",
            "'Noa Magrisso Resume (1).pdf'\n",
            "'Noa Magrisso Resume (2).pdf'\n",
            "'Noa Magrisso Resume (3).pdf'\n",
            "'Noa Magrisso Resume.pdf'\n",
            "'Our App-1.jpg'\n",
            "'Our App-2.jpg'\n",
            "'Our App-3.jpg'\n",
            " output_video.mp4\n",
            " OzOhyaon-421.jpg\n",
            " OzOhyaon-428.jpg\n",
            " OzOhyaon-432.jpg\n",
            " OzOhyaon-433.jpg\n",
            " OzOhyaon-434.jpg\n",
            " PAC-MAN.gdoc\n",
            " python_environment_check.py\n",
            "'Roadmap (1).drawio'\n",
            " RPReplay_Final1687390446.mp4\n",
            "'rwservlet - Noa Magrisso.pdf'\n",
            " SAM_0205.MP4\n",
            " Screencasts-until-22-10.zip\n",
            "'ScreenRecording_06-22-2023 02-29-02_1.mp4'\n",
            " Screenshot_20180728-231637_Facebook.jpg\n",
            " TAG_task\n",
            " Test_A_206934978\n",
            " Test_B_206934978\n",
            " test_baseline_sentence_Guy.gsheet\n",
            "'Untitled Diagram (1).drawio'\n",
            "'Untitled Diagram.drawio'\n",
            "'vxz-oqkn-vaf – 6 בפבר׳ 2021.gjam'\n",
            "'אבטחת מחשבים ורשתות תקשורת-20210714T062238Z-001.zip'\n",
            "'איטליה מהפלאפון שלי'\n",
            " אייפד\n",
            "'איך אנחנו מתקדמים?.gdoc'\n",
            "'אילת 2018'\n",
            "'אילת 2018 (1)'\n",
            "'אלבומי Google'\n",
            "'אמסטרדם אלינור & נועה'\n",
            "'אפליקצית האנדרואיד מקליט שיחות טלפון אוטומטי הומלצה עבורך'\n",
            "'ביטוח נסיעות לחול-מפרט פוליסה  600074790324.pdf'\n",
            "'בינה מלאכותית הרצאות'\n",
            "'גיליון ללא שם.gsheet'\n",
            "'דרום אמריקה מהמחשב שלי - 13.06'\n",
            "'האות A.gdoc'\n",
            "'האות A - חזרה ראשונה.gdoc'\n",
            "'האות A - חזרה שנייה.gdoc'\n",
            " האחיינים\n",
            "'הדפסה לי אופיס'\n",
            "'הדרכה ברישום וביטול רישום למועדי ב.doc'\n",
            "'הוראות מעודכנות לביצוע הלומדה למניעת הטרדה מינית.docx'\n",
            "'התמחות בתעשיה בהנדסת תוכנה ונתונים סמ 2- 0606.ts'\n",
            "'התמחות בתעשיה בהנדסת תוכנה ונתונים סמ 2- 1306.ts'\n",
            "'התמחות בתעשיה בהנדסת תוכנה ונתונים סמ 2- Media Gallery_2 (1).ts'\n",
            "'התמחות בתעשיה בהנדסת תוכנה ונתונים סמ 2- Media Gallery_2 (2).ts'\n",
            "'התמחות בתעשיה בהנדסת תוכנה ונתונים סמ 2- Media Gallery_2305.ts'\n",
            "'התמחות בתעשיה בהנדסת תוכנה ונתונים סמ 2- Media Gallery_2 (3).ts'\n",
            "'התמחות בתעשיה בהנדסת תוכנה ונתונים סמ 2- Media Gallery_2.ts'\n",
            "'התמחות בתעשיה בהנדסת תוכנה ונתונים סמ 2- Media Gallery_3005.ts'\n",
            "'התמחות בתעשיה בהנדסת תוכנה ונתונים סמ 2- Media Gallery.ts'\n",
            "'זיפ של לימודים'\n",
            "'חו\"ל אחים לאיטליה'\n",
            "'חומר בתכנות מתקדם.zip'\n",
            "'חשבונות שותפים 22-23 (עמרי, אביב ונועה) 3>.gsheet'\n",
            "'טופס הארכת זמן.pdf'\n",
            "'טופס הכנה לפגישה עם מנהל תיק (003).gdoc'\n",
            "'טופס הכנה לפגישה עם מנהל תיק (003).pdf'\n",
            "'ידע ☠️.pdf'\n",
            "'יואבי ונועלה חולקים חלומות.gdoc'\n",
            "'יולי 18'\n",
            "'יום הולדת 22 לי'\n",
            "'להדפיס ביעיל.zip'\n",
            " להדפסה.zip\n",
            "\"למידה לסביבות - מועד ב'.gdoc\"\n",
            " לעבודה\n",
            "'מבחן אמיר'\n",
            "'מדעי הנתונים ובינה עסקית - תרגיל בית 2.gdoc'\n",
            "'מה אני אומרת ב- KOM בעברית.gdoc'\n",
            "'מהמחשב של אינטל'\n",
            "'מיטאפ 9.5.ts'\n",
            " מלגה.JPG\n",
            "'מסיבה עם אביב'\n",
            "'מסיבת רווקות לשיר'\n",
            "'מסמך ללא כותרת (1).gdoc'\n",
            "'מסמך ללא כותרת.gdoc'\n",
            "'מסמך ללא שם (1).gdoc'\n",
            "'מסמך ללא שם.gdoc'\n",
            "'מעבדה 5.gdoc'\n",
            "'מפגש שישי - 25.4.ts'\n",
            "'מפה ללא שם.gmap'\n",
            " מצלמה\n",
            "'מתנת פרידה - בהד 1'\n",
            "'נועהלה ואהוד 👩‍❤️‍💋‍👨'\n",
            "'נועה מגריסו.docx'\n",
            "'נועה מגריסו - קורות חיים (1).docx'\n",
            "'נועה מגריסו - קורות חיים (2).docx'\n",
            "'נועה מגריסו - קורות חיים (3).docx'\n",
            "'נועה מגריסו - קורות חיים (4).docx'\n",
            "'נועה מגריסו - קורות חיים.docx'\n",
            "'ניהול זמנים - חודשי ושבועי.gdoc'\n",
            "'ניהול לוז לפי שיטת Pomodoro לכל השבוע.gdoc'\n",
            "'סיכום הוצאות נועה.gsheet'\n",
            "'סיכום הוצאות שנת 2023-2024 שירי.xlsx'\n",
            "'סיכום קקצ מגריסו.gslides'\n",
            "'סמסטר א'\n",
            "'סמסטר ב'\n",
            "'סמסטר ג'\n",
            "'סמסטר ד'\n",
            "'סמסטר ה'\n",
            "'עותק של ⁨06.gif⁩'\n",
            "'עותק של fixed2_improved_sentence_roles.gsheet'\n",
            "'עותק של test_baseline_sentence_Guy.gsheet'\n",
            "'עיבוד שפה'\n",
            "'על עצמי בעברית ובאנגלית.gdoc'\n",
            "'פורמט ניהול זמנים - חודשי - אלינור.gdoc'\n",
            "'ציוד לחימה לעידו.gdoc'\n",
            "'קורות חיים.gdoc'\n",
            "'קורות חיים אוה אמרומין (1).gdoc'\n",
            "'קמפינג 13-14.8.gdoc'\n",
            "'קמפינג 13-14.8.gsheet'\n",
            "'רווקות לשיר 🪩👯'\n",
            "'רשימת ציוד שיר ונועה.docx'\n",
            "'רשימת קניות לשנה הבאה.docx'\n",
            "'שטר חוב הסכם שכירות נועה מגריסו 110924.docx'\n",
            " שיר\n",
            " תז.JPG\n",
            "'תזה אוראל (1).gdoc'\n",
            "'תזה אוראל (2).gdoc'\n",
            "'תזה אוראל (3).gdoc'\n",
            "'תזה אוראל.gdoc'\n",
            "'תחקור מנהיגות - גדוד ברוש מחזור 54.gform'\n",
            "'תכנון זמנים.xlsx'\n",
            "'תמונה שלי.jpeg'\n",
            "'תמונות לסרטון שחרור - לניב.zip'\n",
            " תשפ_א-20220507T090025Z-001.zip\n",
            " תשפ_א-20220507T090025Z-002.zip\n"
          ]
        }
      ],
      "source": [
        "!ls \"/content/drive/My Drive\""
      ]
    },
    {
      "cell_type": "markdown",
      "metadata": {
        "id": "DFNgqa6NLJ6M"
      },
      "source": [
        "## Installations & Imports"
      ]
    },
    {
      "cell_type": "markdown",
      "metadata": {
        "id": "8KogaEhJLJ6M"
      },
      "source": [
        "Add folder to path in order to load from the check_packages.py script:"
      ]
    },
    {
      "cell_type": "code",
      "execution_count": 3,
      "metadata": {
        "id": "bNTFWBxCLJ6M"
      },
      "outputs": [],
      "source": [
        "import sys\n",
        "sys.path.append('/content/drive/MyDrive/ML_Exercise3')\n",
        "sys.path.insert(0, '..')"
      ]
    },
    {
      "cell_type": "markdown",
      "source": [
        "Installations"
      ],
      "metadata": {
        "id": "euji4xo6E_aI"
      }
    },
    {
      "cell_type": "code",
      "source": [
        "!pip install tensorflow scikit-learn tensorflow.keras"
      ],
      "metadata": {
        "colab": {
          "base_uri": "https://localhost:8080/"
        },
        "id": "850FM3gDFB4V",
        "outputId": "b9bbe55a-21fa-4642-a4ae-4a3325288515"
      },
      "execution_count": 4,
      "outputs": [
        {
          "output_type": "stream",
          "name": "stdout",
          "text": [
            "Requirement already satisfied: tensorflow in /usr/local/lib/python3.11/dist-packages (2.17.1)\n",
            "Requirement already satisfied: scikit-learn in /usr/local/lib/python3.11/dist-packages (1.6.1)\n",
            "Collecting tensorflow.keras\n",
            "  Downloading tensorflow_keras-0.1-py3-none-any.whl.metadata (63 bytes)\n",
            "Requirement already satisfied: absl-py>=1.0.0 in /usr/local/lib/python3.11/dist-packages (from tensorflow) (1.4.0)\n",
            "Requirement already satisfied: astunparse>=1.6.0 in /usr/local/lib/python3.11/dist-packages (from tensorflow) (1.6.3)\n",
            "Requirement already satisfied: flatbuffers>=24.3.25 in /usr/local/lib/python3.11/dist-packages (from tensorflow) (25.1.21)\n",
            "Requirement already satisfied: gast!=0.5.0,!=0.5.1,!=0.5.2,>=0.2.1 in /usr/local/lib/python3.11/dist-packages (from tensorflow) (0.6.0)\n",
            "Requirement already satisfied: google-pasta>=0.1.1 in /usr/local/lib/python3.11/dist-packages (from tensorflow) (0.2.0)\n",
            "Requirement already satisfied: h5py>=3.10.0 in /usr/local/lib/python3.11/dist-packages (from tensorflow) (3.12.1)\n",
            "Requirement already satisfied: libclang>=13.0.0 in /usr/local/lib/python3.11/dist-packages (from tensorflow) (18.1.1)\n",
            "Requirement already satisfied: ml-dtypes<0.5.0,>=0.3.1 in /usr/local/lib/python3.11/dist-packages (from tensorflow) (0.4.1)\n",
            "Requirement already satisfied: opt-einsum>=2.3.2 in /usr/local/lib/python3.11/dist-packages (from tensorflow) (3.4.0)\n",
            "Requirement already satisfied: packaging in /usr/local/lib/python3.11/dist-packages (from tensorflow) (24.2)\n",
            "Requirement already satisfied: protobuf!=4.21.0,!=4.21.1,!=4.21.2,!=4.21.3,!=4.21.4,!=4.21.5,<5.0.0dev,>=3.20.3 in /usr/local/lib/python3.11/dist-packages (from tensorflow) (4.25.6)\n",
            "Requirement already satisfied: requests<3,>=2.21.0 in /usr/local/lib/python3.11/dist-packages (from tensorflow) (2.32.3)\n",
            "Requirement already satisfied: setuptools in /usr/local/lib/python3.11/dist-packages (from tensorflow) (75.1.0)\n",
            "Requirement already satisfied: six>=1.12.0 in /usr/local/lib/python3.11/dist-packages (from tensorflow) (1.17.0)\n",
            "Requirement already satisfied: termcolor>=1.1.0 in /usr/local/lib/python3.11/dist-packages (from tensorflow) (2.5.0)\n",
            "Requirement already satisfied: typing-extensions>=3.6.6 in /usr/local/lib/python3.11/dist-packages (from tensorflow) (4.12.2)\n",
            "Requirement already satisfied: wrapt>=1.11.0 in /usr/local/lib/python3.11/dist-packages (from tensorflow) (1.17.2)\n",
            "Requirement already satisfied: grpcio<2.0,>=1.24.3 in /usr/local/lib/python3.11/dist-packages (from tensorflow) (1.70.0)\n",
            "Requirement already satisfied: tensorboard<2.18,>=2.17 in /usr/local/lib/python3.11/dist-packages (from tensorflow) (2.17.1)\n",
            "Requirement already satisfied: keras>=3.2.0 in /usr/local/lib/python3.11/dist-packages (from tensorflow) (3.5.0)\n",
            "Requirement already satisfied: tensorflow-io-gcs-filesystem>=0.23.1 in /usr/local/lib/python3.11/dist-packages (from tensorflow) (0.37.1)\n",
            "Requirement already satisfied: numpy<2.0.0,>=1.23.5 in /usr/local/lib/python3.11/dist-packages (from tensorflow) (1.26.4)\n",
            "Requirement already satisfied: scipy>=1.6.0 in /usr/local/lib/python3.11/dist-packages (from scikit-learn) (1.13.1)\n",
            "Requirement already satisfied: joblib>=1.2.0 in /usr/local/lib/python3.11/dist-packages (from scikit-learn) (1.4.2)\n",
            "Requirement already satisfied: threadpoolctl>=3.1.0 in /usr/local/lib/python3.11/dist-packages (from scikit-learn) (3.5.0)\n",
            "Requirement already satisfied: wheel<1.0,>=0.23.0 in /usr/local/lib/python3.11/dist-packages (from astunparse>=1.6.0->tensorflow) (0.45.1)\n",
            "Requirement already satisfied: rich in /usr/local/lib/python3.11/dist-packages (from keras>=3.2.0->tensorflow) (13.9.4)\n",
            "Requirement already satisfied: namex in /usr/local/lib/python3.11/dist-packages (from keras>=3.2.0->tensorflow) (0.0.8)\n",
            "Requirement already satisfied: optree in /usr/local/lib/python3.11/dist-packages (from keras>=3.2.0->tensorflow) (0.14.0)\n",
            "Requirement already satisfied: charset-normalizer<4,>=2 in /usr/local/lib/python3.11/dist-packages (from requests<3,>=2.21.0->tensorflow) (3.4.1)\n",
            "Requirement already satisfied: idna<4,>=2.5 in /usr/local/lib/python3.11/dist-packages (from requests<3,>=2.21.0->tensorflow) (3.10)\n",
            "Requirement already satisfied: urllib3<3,>=1.21.1 in /usr/local/lib/python3.11/dist-packages (from requests<3,>=2.21.0->tensorflow) (2.3.0)\n",
            "Requirement already satisfied: certifi>=2017.4.17 in /usr/local/lib/python3.11/dist-packages (from requests<3,>=2.21.0->tensorflow) (2024.12.14)\n",
            "Requirement already satisfied: markdown>=2.6.8 in /usr/local/lib/python3.11/dist-packages (from tensorboard<2.18,>=2.17->tensorflow) (3.7)\n",
            "Requirement already satisfied: tensorboard-data-server<0.8.0,>=0.7.0 in /usr/local/lib/python3.11/dist-packages (from tensorboard<2.18,>=2.17->tensorflow) (0.7.2)\n",
            "Requirement already satisfied: werkzeug>=1.0.1 in /usr/local/lib/python3.11/dist-packages (from tensorboard<2.18,>=2.17->tensorflow) (3.1.3)\n",
            "Requirement already satisfied: MarkupSafe>=2.1.1 in /usr/local/lib/python3.11/dist-packages (from werkzeug>=1.0.1->tensorboard<2.18,>=2.17->tensorflow) (3.0.2)\n",
            "Requirement already satisfied: markdown-it-py>=2.2.0 in /usr/local/lib/python3.11/dist-packages (from rich->keras>=3.2.0->tensorflow) (3.0.0)\n",
            "Requirement already satisfied: pygments<3.0.0,>=2.13.0 in /usr/local/lib/python3.11/dist-packages (from rich->keras>=3.2.0->tensorflow) (2.18.0)\n",
            "Requirement already satisfied: mdurl~=0.1 in /usr/local/lib/python3.11/dist-packages (from markdown-it-py>=2.2.0->rich->keras>=3.2.0->tensorflow) (0.1.2)\n",
            "Downloading tensorflow_keras-0.1-py3-none-any.whl (5.2 kB)\n",
            "Installing collected packages: tensorflow.keras\n",
            "Successfully installed tensorflow.keras-0.1\n"
          ]
        }
      ]
    },
    {
      "cell_type": "markdown",
      "source": [
        "Imports"
      ],
      "metadata": {
        "id": "ikWd_gDeFKY8"
      }
    },
    {
      "cell_type": "code",
      "source": [
        "from tensorflow.keras.datasets import mnist\n",
        "from tensorflow.keras.models import Sequential\n",
        "from tensorflow.keras.layers import Dense, Flatten\n",
        "from sklearn.metrics import roc_curve, roc_auc_score\n",
        "from tensorflow.keras.utils import to_categorical\n",
        "from sklearn.model_selection import train_test_split\n",
        "\n",
        "import numpy as np\n",
        "import matplotlib.pyplot as plt\n",
        "from sklearn.model_selection import train_test_split\n",
        "import tensorflow as tf\n",
        "\n",
        "import torch\n",
        "import torch.nn as nn\n",
        "import torch.nn.functional as F\n",
        "from torch.utils.data import TensorDataset, DataLoader\n",
        "import torch.optim as optim"
      ],
      "metadata": {
        "id": "VVWFenYlFLbY"
      },
      "execution_count": 5,
      "outputs": []
    },
    {
      "cell_type": "markdown",
      "metadata": {
        "id": "Jgdv5AoELJ6N"
      },
      "source": [
        "Check recommended package versions:"
      ]
    },
    {
      "cell_type": "code",
      "execution_count": 6,
      "metadata": {
        "colab": {
          "base_uri": "https://localhost:8080/"
        },
        "id": "4Qj9ZYF9LJ6N",
        "outputId": "d2160432-e3fb-4ef9-ec48-554265417762"
      },
      "outputs": [
        {
          "output_type": "stream",
          "name": "stdout",
          "text": [
            "[OK] Your Python version is 3.11.11 (main, Dec  4 2024, 08:55:07) [GCC 11.4.0]\n",
            "[OK] numpy 1.26.4\n",
            "[OK] matplotlib 3.10.0\n",
            "[OK] sklearn 1.6.1\n"
          ]
        }
      ],
      "source": [
        "from python_environment_check import check_packages\n",
        "\n",
        "\n",
        "d = {\n",
        "    'numpy': '1.21.2',\n",
        "    'matplotlib': '3.4.3',\n",
        "    'sklearn': '1.0',\n",
        "}\n",
        "check_packages(d)"
      ]
    },
    {
      "cell_type": "markdown",
      "metadata": {
        "id": "sjvYhKL4LJ6S"
      },
      "source": [
        "# Obtaining and preparing the MNIST dataset"
      ]
    },
    {
      "cell_type": "markdown",
      "metadata": {
        "id": "3UGDpmbULJ6S"
      },
      "source": [
        "The MNIST dataset is publicly available at http://yann.lecun.com/exdb/mnist/ and consists of the following four parts:\n",
        "\n",
        "- Training set images: train-images-idx3-ubyte.gz (9.9 MB, 47 MB unzipped, 60,000 examples)\n",
        "- Training set labels: train-labels-idx1-ubyte.gz (29 KB, 60 KB unzipped, 60,000 labels)\n",
        "- Test set images: t10k-images-idx3-ubyte.gz (1.6 MB, 7.8 MB, 10,000 examples)\n",
        "- Test set labels: t10k-labels-idx1-ubyte.gz (5 KB, 10 KB unzipped, 10,000 labels)\n",
        "\n"
      ]
    },
    {
      "cell_type": "code",
      "execution_count": 27,
      "metadata": {
        "colab": {
          "base_uri": "https://localhost:8080/"
        },
        "id": "Yl_b-BvwLJ6S",
        "outputId": "a861ca01-21a1-4184-a618-cb48f3daa73e"
      },
      "outputs": [
        {
          "output_type": "stream",
          "name": "stdout",
          "text": [
            "(60000, 784) (10000, 784)\n",
            "(60000,) (10000,)\n"
          ]
        }
      ],
      "source": [
        "# Load dataset\n",
        "(X_train, y_train), (X_test, y_test) = mnist.load_data()\n",
        "\n",
        "# Reshape and normalize\n",
        "X_train = X_train.reshape(-1, 28*28) / 255.0\n",
        "X_test = X_test.reshape(-1, 28*28) / 255.0\n",
        "\n",
        "print(X_train.shape, X_test.shape)\n",
        "print(y_train.shape, y_test.shape)"
      ]
    },
    {
      "cell_type": "code",
      "execution_count": 28,
      "metadata": {
        "colab": {
          "base_uri": "https://localhost:8080/"
        },
        "id": "sTMYgKOvQW0q",
        "outputId": "e7760770-a710-4fee-a468-5caf87279cdd"
      },
      "outputs": [
        {
          "output_type": "stream",
          "name": "stdout",
          "text": [
            "(70000, 784)\n",
            "(70000,)\n"
          ]
        }
      ],
      "source": [
        "# Combine train and test data\n",
        "X = np.vstack((X_train, X_test))\n",
        "y = np.hstack((y_train, y_test))\n",
        "\n",
        "print(X.shape)  # Should print (70000, 784)\n",
        "print(y.shape)  # Should print (70000,)"
      ]
    },
    {
      "cell_type": "markdown",
      "metadata": {
        "id": "fgCW08orLJ6S"
      },
      "source": [
        "Normalize to [-1, 1] range:"
      ]
    },
    {
      "cell_type": "code",
      "execution_count": 29,
      "metadata": {
        "colab": {
          "base_uri": "https://localhost:8080/"
        },
        "id": "acP_6nXMR1Fq",
        "outputId": "05dcc061-d2b5-4eac-b93b-3aa8c03f560b"
      },
      "outputs": [
        {
          "output_type": "stream",
          "name": "stdout",
          "text": [
            "[0.         0.00392157 0.00784314 0.01176471 0.01568627 0.01960784\n",
            " 0.02352941 0.02745098 0.03137255 0.03529412 0.03921569 0.04313725\n",
            " 0.04705882 0.05098039 0.05490196 0.05882353 0.0627451  0.06666667\n",
            " 0.07058824 0.0745098  0.07843137 0.08235294 0.08627451 0.09019608\n",
            " 0.09411765 0.09803922 0.10196078 0.10588235 0.10980392 0.11372549\n",
            " 0.11764706 0.12156863 0.1254902  0.12941176 0.13333333 0.1372549\n",
            " 0.14117647 0.14509804 0.14901961 0.15294118 0.15686275 0.16078431\n",
            " 0.16470588 0.16862745 0.17254902 0.17647059 0.18039216 0.18431373\n",
            " 0.18823529 0.19215686 0.19607843 0.2        0.20392157 0.20784314\n",
            " 0.21176471 0.21568627 0.21960784 0.22352941 0.22745098 0.23137255\n",
            " 0.23529412 0.23921569 0.24313725 0.24705882 0.25098039 0.25490196\n",
            " 0.25882353 0.2627451  0.26666667 0.27058824 0.2745098  0.27843137\n",
            " 0.28235294 0.28627451 0.29019608 0.29411765 0.29803922 0.30196078\n",
            " 0.30588235 0.30980392 0.31372549 0.31764706 0.32156863 0.3254902\n",
            " 0.32941176 0.33333333 0.3372549  0.34117647 0.34509804 0.34901961\n",
            " 0.35294118 0.35686275 0.36078431 0.36470588 0.36862745 0.37254902\n",
            " 0.37647059 0.38039216 0.38431373 0.38823529 0.39215686 0.39607843\n",
            " 0.4        0.40392157 0.40784314 0.41176471 0.41568627 0.41960784\n",
            " 0.42352941 0.42745098 0.43137255 0.43529412 0.43921569 0.44313725\n",
            " 0.44705882 0.45098039 0.45490196 0.45882353 0.4627451  0.46666667\n",
            " 0.47058824 0.4745098  0.47843137 0.48235294 0.48627451 0.49019608\n",
            " 0.49411765 0.49803922 0.50196078 0.50588235 0.50980392 0.51372549\n",
            " 0.51764706 0.52156863 0.5254902  0.52941176 0.53333333 0.5372549\n",
            " 0.54117647 0.54509804 0.54901961 0.55294118 0.55686275 0.56078431\n",
            " 0.56470588 0.56862745 0.57254902 0.57647059 0.58039216 0.58431373\n",
            " 0.58823529 0.59215686 0.59607843 0.6        0.60392157 0.60784314\n",
            " 0.61176471 0.61568627 0.61960784 0.62352941 0.62745098 0.63137255\n",
            " 0.63529412 0.63921569 0.64313725 0.64705882 0.65098039 0.65490196\n",
            " 0.65882353 0.6627451  0.66666667 0.67058824 0.6745098  0.67843137\n",
            " 0.68235294 0.68627451 0.69019608 0.69411765 0.69803922 0.70196078\n",
            " 0.70588235 0.70980392 0.71372549 0.71764706 0.72156863 0.7254902\n",
            " 0.72941176 0.73333333 0.7372549  0.74117647 0.74509804 0.74901961\n",
            " 0.75294118 0.75686275 0.76078431 0.76470588 0.76862745 0.77254902\n",
            " 0.77647059 0.78039216 0.78431373 0.78823529 0.79215686 0.79607843\n",
            " 0.8        0.80392157 0.80784314 0.81176471 0.81568627 0.81960784\n",
            " 0.82352941 0.82745098 0.83137255 0.83529412 0.83921569 0.84313725\n",
            " 0.84705882 0.85098039 0.85490196 0.85882353 0.8627451  0.86666667\n",
            " 0.87058824 0.8745098  0.87843137 0.88235294 0.88627451 0.89019608\n",
            " 0.89411765 0.89803922 0.90196078 0.90588235 0.90980392 0.91372549\n",
            " 0.91764706 0.92156863 0.9254902  0.92941176 0.93333333 0.9372549\n",
            " 0.94117647 0.94509804 0.94901961 0.95294118 0.95686275 0.96078431\n",
            " 0.96470588 0.96862745 0.97254902 0.97647059 0.98039216 0.98431373\n",
            " 0.98823529 0.99215686 0.99607843 1.        ]\n"
          ]
        }
      ],
      "source": [
        "print(np.unique(X))"
      ]
    },
    {
      "cell_type": "code",
      "execution_count": 30,
      "metadata": {
        "colab": {
          "base_uri": "https://localhost:8080/"
        },
        "id": "MX4FWzuaS7m5",
        "outputId": "6b600e93-86cc-4574-f1b8-abf747f2e2ac"
      },
      "outputs": [
        {
          "output_type": "stream",
          "name": "stdout",
          "text": [
            "[  0.   1.   2.   3.   4.   5.   6.   7.   8.   9.  10.  11.  12.  13.\n",
            "  14.  15.  16.  17.  18.  19.  20.  21.  22.  23.  24.  25.  26.  27.\n",
            "  28.  29.  30.  31.  32.  33.  34.  35.  36.  37.  38.  39.  40.  41.\n",
            "  42.  43.  44.  45.  46.  47.  48.  49.  50.  51.  52.  53.  54.  55.\n",
            "  56.  57.  58.  59.  60.  61.  62.  63.  64.  65.  66.  67.  68.  69.\n",
            "  70.  71.  72.  73.  74.  75.  76.  77.  78.  79.  80.  81.  82.  83.\n",
            "  84.  85.  86.  87.  88.  89.  90.  91.  92.  93.  94.  95.  96.  97.\n",
            "  98.  99. 100. 101. 102. 103. 104. 105. 106. 107. 108. 109. 110. 111.\n",
            " 112. 113. 114. 115. 116. 117. 118. 119. 120. 121. 122. 123. 124. 125.\n",
            " 126. 127. 128. 129. 130. 131. 132. 133. 134. 135. 136. 137. 138. 139.\n",
            " 140. 141. 142. 143. 144. 145. 146. 147. 148. 149. 150. 151. 152. 153.\n",
            " 154. 155. 156. 157. 158. 159. 160. 161. 162. 163. 164. 165. 166. 167.\n",
            " 168. 169. 170. 171. 172. 173. 174. 175. 176. 177. 178. 179. 180. 181.\n",
            " 182. 183. 184. 185. 186. 187. 188. 189. 190. 191. 192. 193. 194. 195.\n",
            " 196. 197. 198. 199. 200. 201. 202. 203. 204. 205. 206. 207. 208. 209.\n",
            " 210. 211. 212. 213. 214. 215. 216. 217. 218. 219. 220. 221. 222. 223.\n",
            " 224. 225. 226. 227. 228. 229. 230. 231. 232. 233. 234. 235. 236. 237.\n",
            " 238. 239. 240. 241. 242. 243. 244. 245. 246. 247. 248. 249. 250. 251.\n",
            " 252. 253. 254. 255.]\n"
          ]
        }
      ],
      "source": [
        "print(np.unique(X * 255))"
      ]
    },
    {
      "cell_type": "code",
      "execution_count": 31,
      "metadata": {
        "id": "6GyTUcV1LJ6T"
      },
      "outputs": [],
      "source": [
        "X = np.clip((X - 0.5) * 2, -1, 1)"
      ]
    },
    {
      "cell_type": "code",
      "execution_count": 32,
      "metadata": {
        "colab": {
          "base_uri": "https://localhost:8080/"
        },
        "id": "hb5MunQaR0sM",
        "outputId": "33f44494-afee-46e6-f482-ce14340c2320"
      },
      "outputs": [
        {
          "output_type": "stream",
          "name": "stdout",
          "text": [
            "[-1.         -0.99215686 -0.98431373 -0.97647059 -0.96862745 -0.96078431\n",
            " -0.95294118 -0.94509804 -0.9372549  -0.92941176 -0.92156863 -0.91372549\n",
            " -0.90588235 -0.89803922 -0.89019608 -0.88235294 -0.8745098  -0.86666667\n",
            " -0.85882353 -0.85098039 -0.84313725 -0.83529412 -0.82745098 -0.81960784\n",
            " -0.81176471 -0.80392157 -0.79607843 -0.78823529 -0.78039216 -0.77254902\n",
            " -0.76470588 -0.75686275 -0.74901961 -0.74117647 -0.73333333 -0.7254902\n",
            " -0.71764706 -0.70980392 -0.70196078 -0.69411765 -0.68627451 -0.67843137\n",
            " -0.67058824 -0.6627451  -0.65490196 -0.64705882 -0.63921569 -0.63137255\n",
            " -0.62352941 -0.61568627 -0.60784314 -0.6        -0.59215686 -0.58431373\n",
            " -0.57647059 -0.56862745 -0.56078431 -0.55294118 -0.54509804 -0.5372549\n",
            " -0.52941176 -0.52156863 -0.51372549 -0.50588235 -0.49803922 -0.49019608\n",
            " -0.48235294 -0.4745098  -0.46666667 -0.45882353 -0.45098039 -0.44313725\n",
            " -0.43529412 -0.42745098 -0.41960784 -0.41176471 -0.40392157 -0.39607843\n",
            " -0.38823529 -0.38039216 -0.37254902 -0.36470588 -0.35686275 -0.34901961\n",
            " -0.34117647 -0.33333333 -0.3254902  -0.31764706 -0.30980392 -0.30196078\n",
            " -0.29411765 -0.28627451 -0.27843137 -0.27058824 -0.2627451  -0.25490196\n",
            " -0.24705882 -0.23921569 -0.23137255 -0.22352941 -0.21568627 -0.20784314\n",
            " -0.2        -0.19215686 -0.18431373 -0.17647059 -0.16862745 -0.16078431\n",
            " -0.15294118 -0.14509804 -0.1372549  -0.12941176 -0.12156863 -0.11372549\n",
            " -0.10588235 -0.09803922 -0.09019608 -0.08235294 -0.0745098  -0.06666667\n",
            " -0.05882353 -0.05098039 -0.04313725 -0.03529412 -0.02745098 -0.01960784\n",
            " -0.01176471 -0.00392157  0.00392157  0.01176471  0.01960784  0.02745098\n",
            "  0.03529412  0.04313725  0.05098039  0.05882353  0.06666667  0.0745098\n",
            "  0.08235294  0.09019608  0.09803922  0.10588235  0.11372549  0.12156863\n",
            "  0.12941176  0.1372549   0.14509804  0.15294118  0.16078431  0.16862745\n",
            "  0.17647059  0.18431373  0.19215686  0.2         0.20784314  0.21568627\n",
            "  0.22352941  0.23137255  0.23921569  0.24705882  0.25490196  0.2627451\n",
            "  0.27058824  0.27843137  0.28627451  0.29411765  0.30196078  0.30980392\n",
            "  0.31764706  0.3254902   0.33333333  0.34117647  0.34901961  0.35686275\n",
            "  0.36470588  0.37254902  0.38039216  0.38823529  0.39607843  0.40392157\n",
            "  0.41176471  0.41960784  0.42745098  0.43529412  0.44313725  0.45098039\n",
            "  0.45882353  0.46666667  0.4745098   0.48235294  0.49019608  0.49803922\n",
            "  0.50588235  0.51372549  0.52156863  0.52941176  0.5372549   0.54509804\n",
            "  0.55294118  0.56078431  0.56862745  0.57647059  0.58431373  0.59215686\n",
            "  0.6         0.60784314  0.61568627  0.62352941  0.63137255  0.63921569\n",
            "  0.64705882  0.65490196  0.6627451   0.67058824  0.67843137  0.68627451\n",
            "  0.69411765  0.70196078  0.70980392  0.71764706  0.7254902   0.73333333\n",
            "  0.74117647  0.74901961  0.75686275  0.76470588  0.77254902  0.78039216\n",
            "  0.78823529  0.79607843  0.80392157  0.81176471  0.81960784  0.82745098\n",
            "  0.83529412  0.84313725  0.85098039  0.85882353  0.86666667  0.8745098\n",
            "  0.88235294  0.89019608  0.89803922  0.90588235  0.91372549  0.92156863\n",
            "  0.92941176  0.9372549   0.94509804  0.95294118  0.96078431  0.96862745\n",
            "  0.97647059  0.98431373  0.99215686  1.        ]\n"
          ]
        }
      ],
      "source": [
        "print(np.unique(X))"
      ]
    },
    {
      "cell_type": "code",
      "execution_count": 33,
      "metadata": {
        "colab": {
          "base_uri": "https://localhost:8080/"
        },
        "id": "tvb1NbGUUjwa",
        "outputId": "eeec912f-1a93-4881-bd54-cdf7e17b86f7"
      },
      "outputs": [
        {
          "output_type": "stream",
          "name": "stdout",
          "text": [
            "Min value: -1.0\n",
            "Max value: 1.0\n"
          ]
        }
      ],
      "source": [
        "print(\"Min value:\", np.min(X))  # Should be -1\n",
        "print(\"Max value:\", np.max(X))  # Should be 1"
      ]
    },
    {
      "cell_type": "markdown",
      "metadata": {
        "id": "n4k0r1y6LJ6U"
      },
      "source": [
        "Split into training, validation, and test set - **New splitted data as was required at assignment 3**:"
      ]
    },
    {
      "cell_type": "code",
      "execution_count": 34,
      "metadata": {
        "id": "VDZLxsHZLJ6U"
      },
      "outputs": [],
      "source": [
        "X_temp, X_test, y_temp, y_test = train_test_split(\n",
        "    X, y, test_size=0.3, random_state=123, stratify=y)\n",
        "\n",
        "X_train, X_valid, y_train, y_valid = train_test_split(\n",
        "    X_temp, y_temp, test_size=0.1, random_state=123, stratify=y_temp)\n",
        "\n",
        "\n",
        "# optional to free up some memory by deleting non-used arrays:\n",
        "del X_temp, y_temp, X, y"
      ]
    },
    {
      "cell_type": "code",
      "source": [
        "print(X_train.shape, X_valid.shape)\n",
        "print(y_train.shape, y_valid.shape)"
      ],
      "metadata": {
        "colab": {
          "base_uri": "https://localhost:8080/"
        },
        "id": "HID4vRB6bGb5",
        "outputId": "33bf9d50-17d8-467f-9d2f-5866d46ac363"
      },
      "execution_count": 35,
      "outputs": [
        {
          "output_type": "stream",
          "name": "stdout",
          "text": [
            "(44100, 784) (4900, 784)\n",
            "(44100,) (4900,)\n"
          ]
        }
      ]
    },
    {
      "cell_type": "markdown",
      "source": [
        "# Common Functions"
      ],
      "metadata": {
        "id": "0toL_GPOMrKW"
      }
    },
    {
      "cell_type": "markdown",
      "metadata": {
        "id": "AwTL4qWZLJ6c"
      },
      "source": [
        "Defining data loaders:"
      ]
    },
    {
      "cell_type": "code",
      "execution_count": 36,
      "metadata": {
        "colab": {
          "base_uri": "https://localhost:8080/"
        },
        "id": "aHhoNDszLJ6c",
        "outputId": "aec9a05c-b287-4dff-86a2-dc46f4b4f2f9"
      },
      "outputs": [
        {
          "output_type": "stream",
          "name": "stdout",
          "text": [
            "(100, 784)\n",
            "(100,)\n"
          ]
        }
      ],
      "source": [
        "num_epochs = 50\n",
        "minibatch_size = 100\n",
        "\n",
        "\n",
        "def minibatch_generator(X, y, minibatch_size):\n",
        "    indices = np.arange(X.shape[0])\n",
        "    np.random.shuffle(indices)\n",
        "\n",
        "    for start_idx in range(0, indices.shape[0] - minibatch_size\n",
        "                           + 1, minibatch_size):\n",
        "        batch_idx = indices[start_idx:start_idx + minibatch_size]\n",
        "\n",
        "        yield X[batch_idx], y[batch_idx]\n",
        "\n",
        "\n",
        "# iterate over training epochs\n",
        "for i in range(num_epochs):\n",
        "\n",
        "    # iterate over minibatches\n",
        "    minibatch_gen = minibatch_generator(\n",
        "        X_train, y_train, minibatch_size)\n",
        "\n",
        "    for X_train_mini, y_train_mini in minibatch_gen:\n",
        "\n",
        "        break\n",
        "\n",
        "    break\n",
        "\n",
        "print(X_train_mini.shape)\n",
        "print(y_train_mini.shape)"
      ]
    },
    {
      "cell_type": "markdown",
      "source": [
        "Compute mse and acc metrics for the entire dataset:"
      ],
      "metadata": {
        "id": "9vQikkMSNxf9"
      }
    },
    {
      "cell_type": "code",
      "source": [
        "def mse_loss(targets, probas, num_labels=10):\n",
        "    onehot_targets = int_to_onehot(targets, num_labels=num_labels)\n",
        "    return np.mean((onehot_targets - probas)**2)\n",
        "\n",
        "\n",
        "def accuracy(targets, predicted_labels):\n",
        "    return np.mean(predicted_labels == targets)"
      ],
      "metadata": {
        "id": "BmL21bt4NPRF"
      },
      "execution_count": 37,
      "outputs": []
    },
    {
      "cell_type": "markdown",
      "source": [
        "Compute mse and acc metrics in minibatches:"
      ],
      "metadata": {
        "id": "md4qT-_4Nzpn"
      }
    },
    {
      "cell_type": "code",
      "source": [
        "def compute_mse_and_acc(nnet, X, y, num_labels=10, minibatch_size=100):\n",
        "    mse, correct_pred, num_examples = 0., 0, 0\n",
        "    minibatch_gen = minibatch_generator(X, y, minibatch_size)\n",
        "\n",
        "    for i, (features, targets) in enumerate(minibatch_gen):\n",
        "\n",
        "        probas = nnet.forward(features)[-1]\n",
        "        predicted_labels = np.argmax(probas, axis=1)\n",
        "\n",
        "        onehot_targets = int_to_onehot(targets, num_labels=num_labels)\n",
        "        loss = np.mean((onehot_targets - probas)**2)\n",
        "        correct_pred += (predicted_labels == targets).sum()\n",
        "\n",
        "        num_examples += targets.shape[0]\n",
        "        mse += loss\n",
        "\n",
        "    mse = mse/(i+1)\n",
        "    acc = correct_pred/num_examples\n",
        "    return mse, acc"
      ],
      "metadata": {
        "id": "kmpH86zuNVOp"
      },
      "execution_count": 38,
      "outputs": []
    },
    {
      "cell_type": "markdown",
      "source": [
        "Compute roc and auc metrics:"
      ],
      "metadata": {
        "id": "WfadVfHQOKmu"
      }
    },
    {
      "cell_type": "code",
      "source": [
        "def compute_roc_and_auc(nnet, X, y, num_labels=10, minibatch_size=100, is_keras=False):\n",
        "    \"\"\"\n",
        "    Compute the ROC curve and AUC for a neural network or Keras model.\n",
        "\n",
        "    Args:\n",
        "        nnet: Neural network object with a `forward` method or a Keras model.\n",
        "        X: Feature matrix.\n",
        "        y: True labels (not one-hot encoded).\n",
        "        num_labels: Number of classes.\n",
        "        minibatch_size: Size of minibatches for computation (ignored for Keras models).\n",
        "        is_keras: Boolean flag to indicate if the model is a Keras model.\n",
        "\n",
        "    Returns:\n",
        "        auc: The macro-average AUC score.\n",
        "        roc_data: A dictionary containing FPR, TPR, and thresholds for each class.\n",
        "    \"\"\"\n",
        "    y_true = []\n",
        "    y_pred_proba = []\n",
        "\n",
        "    if is_keras:\n",
        "        # For Keras models, use predict directly\n",
        "        y_true = y\n",
        "        y_pred_proba = nnet.predict(X)  # Predict the probabilities\n",
        "    else:\n",
        "        # For custom neural networks, use minibatch generator and forward pass\n",
        "        minibatch_gen = minibatch_generator(X, y, minibatch_size)\n",
        "        for features, targets in minibatch_gen:\n",
        "            outputs = nnet.forward(features)  # Handle 1HL or 2HL outputs\n",
        "            probas = outputs[-1]  # Probabilities are always the last output\n",
        "            y_true.extend(targets)\n",
        "            y_pred_proba.extend(probas)\n",
        "\n",
        "    y_true = np.array(y_true)\n",
        "    y_pred_proba = np.array(y_pred_proba)\n",
        "\n",
        "    # Compute ROC curve and AUC for each class\n",
        "    roc_data = {}\n",
        "    auc = roc_auc_score(int_to_onehot(y_true, num_labels), y_pred_proba, multi_class=\"ovr\", average=\"macro\")\n",
        "\n",
        "    for i in range(num_labels):\n",
        "        fpr, tpr, thresholds = roc_curve(int_to_onehot(y_true, num_labels)[:, i], y_pred_proba[:, i])\n",
        "        roc_data[i] = {\"fpr\": fpr, \"tpr\": tpr, \"thresholds\": thresholds}\n",
        "\n",
        "    return auc, roc_data\n",
        "\n",
        "\n",
        "def plot_roc_for_all_classes(roc_data, num_labels):\n",
        "    \"\"\"\n",
        "    Plot the ROC curves for all classes in a single plot.\n",
        "\n",
        "    Args:\n",
        "        roc_data: Dictionary containing FPR, TPR, and thresholds for each class.\n",
        "        num_labels: Number of classes.\n",
        "    \"\"\"\n",
        "    plt.figure(figsize=(10, 8))\n",
        "\n",
        "    for i in range(num_labels):\n",
        "        fpr = roc_data[i][\"fpr\"]\n",
        "        tpr = roc_data[i][\"tpr\"]\n",
        "        plt.plot(fpr, tpr, label=f\"Class {i} ROC\")\n",
        "\n",
        "    plt.plot([0, 1], [0, 1], color=\"gray\", linestyle=\"--\", label=\"Random Guess\")\n",
        "    plt.xlabel(\"False Positive Rate (FPR)\")\n",
        "    plt.ylabel(\"True Positive Rate (TPR)\")\n",
        "    plt.title(\"ROC Curves for All Classes\")\n",
        "    plt.legend()\n",
        "    plt.grid()\n",
        "    plt.show()"
      ],
      "metadata": {
        "id": "XJNf7WZeOFNK"
      },
      "execution_count": 39,
      "outputs": []
    },
    {
      "cell_type": "markdown",
      "metadata": {
        "id": "SpUSjVzNLJ6P"
      },
      "source": [
        "# Original Case - 1 Hidden Layer"
      ]
    },
    {
      "cell_type": "markdown",
      "source": [
        "## Check MNIST dataset"
      ],
      "metadata": {
        "id": "s4fLIXWyMOlm"
      }
    },
    {
      "cell_type": "code",
      "source": [
        "# Print shapes of the resulting datasets\n",
        "print(\"Training set shape:\", X_train.shape, y_train.shape)\n",
        "print(\"Validation set shape:\", X_valid.shape, y_valid.shape)\n",
        "print(\"Test set shape:\", X_test.shape, y_test.shape)"
      ],
      "metadata": {
        "colab": {
          "base_uri": "https://localhost:8080/"
        },
        "id": "0zzPr6lAMQXC",
        "outputId": "665265ef-9218-42d6-a7a1-c89e480f7f69"
      },
      "execution_count": 40,
      "outputs": [
        {
          "output_type": "stream",
          "name": "stdout",
          "text": [
            "Training set shape: (44100, 784) (44100,)\n",
            "Validation set shape: (4900, 784) (4900,)\n",
            "Test set shape: (21000, 784) (21000,)\n"
          ]
        }
      ]
    },
    {
      "cell_type": "markdown",
      "metadata": {
        "id": "DzJMTdVDLJ6U"
      },
      "source": [
        "## Implementing a multi-layer perceptron (1 hidden layer)"
      ]
    },
    {
      "cell_type": "code",
      "execution_count": 41,
      "metadata": {
        "id": "Vm-_MfSkLJ6V"
      },
      "outputs": [],
      "source": [
        "##########################\n",
        "### MODEL\n",
        "##########################\n",
        "\n",
        "def sigmoid(z):\n",
        "    return 1. / (1. + np.exp(-z))\n",
        "\n",
        "\n",
        "def int_to_onehot(y, num_labels):\n",
        "\n",
        "    ary = np.zeros((y.shape[0], num_labels))\n",
        "    for i, val in enumerate(y):\n",
        "        ary[i, val] = 1\n",
        "\n",
        "    return ary\n",
        "\n",
        "\n",
        "class NeuralNetMLP:\n",
        "\n",
        "    def __init__(self, num_features, num_hidden, num_classes, random_seed=42):\n",
        "        super().__init__()\n",
        "\n",
        "        self.num_classes = num_classes\n",
        "\n",
        "        # hidden\n",
        "        rng = np.random.RandomState(random_seed)\n",
        "\n",
        "        self.weight_h = rng.normal(\n",
        "            loc=0.0, scale=0.1, size=(num_hidden, num_features))\n",
        "        self.bias_h = np.zeros(num_hidden)\n",
        "\n",
        "        # output\n",
        "        self.weight_out = rng.normal(\n",
        "            loc=0.0, scale=0.1, size=(num_classes, num_hidden))\n",
        "        self.bias_out = np.zeros(num_classes)\n",
        "\n",
        "    def forward(self, x):\n",
        "        # Hidden layer\n",
        "        # input dim: [n_examples, n_features] dot [n_hidden, n_features].T\n",
        "        # output dim: [n_examples, n_hidden]\n",
        "        z_h = np.dot(x, self.weight_h.T) + self.bias_h\n",
        "        a_h = sigmoid(z_h)\n",
        "\n",
        "        # Output layer\n",
        "        # input dim: [n_examples, n_hidden] dot [n_classes, n_hidden].T\n",
        "        # output dim: [n_examples, n_classes]\n",
        "        z_out = np.dot(a_h, self.weight_out.T) + self.bias_out\n",
        "        a_out = sigmoid(z_out)\n",
        "        return a_h, a_out\n",
        "\n",
        "    def backward(self, x, a_h, a_out, y):\n",
        "\n",
        "        #########################\n",
        "        ### Output layer weights\n",
        "        #########################\n",
        "\n",
        "        # onehot encoding\n",
        "        y_onehot = int_to_onehot(y, self.num_classes)\n",
        "\n",
        "        # Part 1: dLoss/dOutWeights\n",
        "        ## = dLoss/dOutAct * dOutAct/dOutNet * dOutNet/dOutWeight\n",
        "        ## where DeltaOut = dLoss/dOutAct * dOutAct/dOutNet\n",
        "        ## for convenient re-use\n",
        "\n",
        "        # input/output dim: [n_examples, n_classes]\n",
        "        d_loss__d_a_out = 2.*(a_out - y_onehot) / y.shape[0]\n",
        "\n",
        "        # input/output dim: [n_examples, n_classes]\n",
        "        d_a_out__d_z_out = a_out * (1. - a_out) # sigmoid derivative\n",
        "\n",
        "        # output dim: [n_examples, n_classes]\n",
        "        delta_out = d_loss__d_a_out * d_a_out__d_z_out # \"delta (rule) placeholder\"\n",
        "\n",
        "        # gradient for output weights\n",
        "\n",
        "        # [n_examples, n_hidden]\n",
        "        d_z_out__dw_out = a_h\n",
        "\n",
        "        # input dim: [n_classes, n_examples] dot [n_examples, n_hidden]\n",
        "        # output dim: [n_classes, n_hidden]\n",
        "        d_loss__dw_out = np.dot(delta_out.T, d_z_out__dw_out)\n",
        "        d_loss__db_out = np.sum(delta_out, axis=0)\n",
        "\n",
        "\n",
        "        #################################\n",
        "        # Part 2: dLoss/dHiddenWeights\n",
        "        ## = DeltaOut * dOutNet/dHiddenAct * dHiddenAct/dHiddenNet * dHiddenNet/dWeight\n",
        "\n",
        "        # [n_classes, n_hidden]\n",
        "        d_z_out__a_h = self.weight_out\n",
        "\n",
        "        # output dim: [n_examples, n_hidden]\n",
        "        d_loss__a_h = np.dot(delta_out, d_z_out__a_h)\n",
        "\n",
        "        # [n_examples, n_hidden]\n",
        "        d_a_h__d_z_h = a_h * (1. - a_h) # sigmoid derivative\n",
        "\n",
        "        # [n_examples, n_features]\n",
        "        d_z_h__d_w_h = x\n",
        "\n",
        "        # output dim: [n_hidden, n_features]\n",
        "        d_loss__d_w_h = np.dot((d_loss__a_h * d_a_h__d_z_h).T, d_z_h__d_w_h)\n",
        "        d_loss__d_b_h = np.sum((d_loss__a_h * d_a_h__d_z_h), axis=0)\n",
        "\n",
        "        return (d_loss__dw_out, d_loss__db_out,\n",
        "                d_loss__d_w_h, d_loss__d_b_h)"
      ]
    },
    {
      "cell_type": "code",
      "execution_count": 42,
      "metadata": {
        "id": "IBiLvVGhLJ6b"
      },
      "outputs": [],
      "source": [
        "model_1HL = NeuralNetMLP(num_features=28*28,\n",
        "                     num_hidden=50,\n",
        "                     num_classes=10)"
      ]
    },
    {
      "cell_type": "markdown",
      "metadata": {
        "id": "DbTf7W8wLJ6b"
      },
      "source": [
        "## Coding the neural network training loop"
      ]
    },
    {
      "cell_type": "markdown",
      "metadata": {
        "id": "WImqOVRoLJ6c"
      },
      "source": [
        "Defining a function to compute the loss and accuracy"
      ]
    },
    {
      "cell_type": "code",
      "execution_count": 43,
      "metadata": {
        "colab": {
          "base_uri": "https://localhost:8080/"
        },
        "id": "sk1GHgQsLJ6d",
        "outputId": "9d5f59c1-6eb5-468f-9336-cdc3be2ebbb5"
      },
      "outputs": [
        {
          "output_type": "stream",
          "name": "stdout",
          "text": [
            "Initial validation MSE: 0.3\n",
            "Initial validation accuracy: 9.6%\n"
          ]
        }
      ],
      "source": [
        "_, probas = model_1HL.forward(X_valid)\n",
        "mse = mse_loss(y_valid, probas)\n",
        "\n",
        "predicted_labels = np.argmax(probas, axis=1)\n",
        "acc = accuracy(y_valid, predicted_labels)\n",
        "\n",
        "print(f'Initial validation MSE: {mse:.1f}')\n",
        "print(f'Initial validation accuracy: {acc*100:.1f}%')"
      ]
    },
    {
      "cell_type": "code",
      "execution_count": 44,
      "metadata": {
        "colab": {
          "base_uri": "https://localhost:8080/"
        },
        "id": "x9pduo3sLJ6d",
        "outputId": "e299a454-8ae6-4385-df3b-13efc4f945f7"
      },
      "outputs": [
        {
          "output_type": "stream",
          "name": "stdout",
          "text": [
            "Initial valid MSE: 0.3\n",
            "Initial valid accuracy: 9.6%\n"
          ]
        }
      ],
      "source": [
        "mse, acc = compute_mse_and_acc(model_1HL, X_valid, y_valid)\n",
        "print(f'Initial valid MSE: {mse:.1f}')\n",
        "print(f'Initial valid accuracy: {acc*100:.1f}%')"
      ]
    },
    {
      "cell_type": "code",
      "execution_count": 45,
      "metadata": {
        "id": "OjdHaxeOLJ6e"
      },
      "outputs": [],
      "source": [
        "def train_model_1HL(model, X_train, y_train, X_valid, y_valid, num_epochs,\n",
        "          learning_rate=0.1):\n",
        "\n",
        "    epoch_loss = []\n",
        "    epoch_train_acc = []\n",
        "    epoch_valid_acc = []\n",
        "\n",
        "    for e in range(num_epochs):\n",
        "\n",
        "        # iterate over minibatches\n",
        "        minibatch_gen = minibatch_generator(\n",
        "            X_train, y_train, minibatch_size)\n",
        "\n",
        "        for X_train_mini, y_train_mini in minibatch_gen:\n",
        "\n",
        "            #### Compute outputs ####\n",
        "            a_h, a_out = model.forward(X_train_mini)\n",
        "\n",
        "            #### Compute gradients ####\n",
        "            d_loss__d_w_out, d_loss__d_b_out, d_loss__d_w_h, d_loss__d_b_h = \\\n",
        "                model.backward(X_train_mini, a_h, a_out, y_train_mini)\n",
        "\n",
        "            #### Update weights ####\n",
        "            model.weight_h -= learning_rate * d_loss__d_w_h\n",
        "            model.bias_h -= learning_rate * d_loss__d_b_h\n",
        "            model.weight_out -= learning_rate * d_loss__d_w_out\n",
        "            model.bias_out -= learning_rate * d_loss__d_b_out\n",
        "\n",
        "        #### Epoch Logging ####\n",
        "        train_mse, train_acc = compute_mse_and_acc(model, X_train, y_train)\n",
        "        valid_mse, valid_acc = compute_mse_and_acc(model, X_valid, y_valid)\n",
        "        train_acc, valid_acc = train_acc*100, valid_acc*100\n",
        "        epoch_train_acc.append(train_acc)\n",
        "        epoch_valid_acc.append(valid_acc)\n",
        "        epoch_loss.append(train_mse)\n",
        "        print(f'Epoch: {e+1:03d}/{num_epochs:03d} '\n",
        "              f'| Train MSE: {train_mse:.2f} '\n",
        "              f'| Train Acc: {train_acc:.2f}% '\n",
        "              f'| Valid Acc: {valid_acc:.2f}%')\n",
        "\n",
        "    return epoch_loss, epoch_train_acc, epoch_valid_acc"
      ]
    },
    {
      "cell_type": "code",
      "execution_count": 46,
      "metadata": {
        "colab": {
          "base_uri": "https://localhost:8080/"
        },
        "id": "CoaQhtbZLJ6e",
        "outputId": "ec19a09e-ca8d-49e2-df6e-761f664da8a4"
      },
      "outputs": [
        {
          "output_type": "stream",
          "name": "stdout",
          "text": [
            "Epoch: 001/050 | Train MSE: 0.06 | Train Acc: 66.63% | Valid Acc: 66.78%\n",
            "Epoch: 002/050 | Train MSE: 0.04 | Train Acc: 82.30% | Valid Acc: 82.14%\n",
            "Epoch: 003/050 | Train MSE: 0.03 | Train Acc: 87.09% | Valid Acc: 86.67%\n",
            "Epoch: 004/050 | Train MSE: 0.02 | Train Acc: 88.74% | Valid Acc: 88.45%\n",
            "Epoch: 005/050 | Train MSE: 0.02 | Train Acc: 89.46% | Valid Acc: 89.31%\n",
            "Epoch: 006/050 | Train MSE: 0.02 | Train Acc: 90.08% | Valid Acc: 90.04%\n",
            "Epoch: 007/050 | Train MSE: 0.02 | Train Acc: 90.47% | Valid Acc: 90.31%\n",
            "Epoch: 008/050 | Train MSE: 0.02 | Train Acc: 90.88% | Valid Acc: 90.73%\n",
            "Epoch: 009/050 | Train MSE: 0.02 | Train Acc: 91.10% | Valid Acc: 90.61%\n",
            "Epoch: 010/050 | Train MSE: 0.02 | Train Acc: 91.34% | Valid Acc: 90.96%\n",
            "Epoch: 011/050 | Train MSE: 0.01 | Train Acc: 91.65% | Valid Acc: 91.20%\n",
            "Epoch: 012/050 | Train MSE: 0.01 | Train Acc: 91.85% | Valid Acc: 91.33%\n",
            "Epoch: 013/050 | Train MSE: 0.01 | Train Acc: 92.05% | Valid Acc: 91.47%\n",
            "Epoch: 014/050 | Train MSE: 0.01 | Train Acc: 92.20% | Valid Acc: 91.76%\n",
            "Epoch: 015/050 | Train MSE: 0.01 | Train Acc: 92.40% | Valid Acc: 91.98%\n",
            "Epoch: 016/050 | Train MSE: 0.01 | Train Acc: 92.58% | Valid Acc: 91.98%\n",
            "Epoch: 017/050 | Train MSE: 0.01 | Train Acc: 92.57% | Valid Acc: 92.10%\n",
            "Epoch: 018/050 | Train MSE: 0.01 | Train Acc: 92.80% | Valid Acc: 92.39%\n",
            "Epoch: 019/050 | Train MSE: 0.01 | Train Acc: 92.90% | Valid Acc: 92.22%\n",
            "Epoch: 020/050 | Train MSE: 0.01 | Train Acc: 92.98% | Valid Acc: 92.43%\n",
            "Epoch: 021/050 | Train MSE: 0.01 | Train Acc: 93.16% | Valid Acc: 92.67%\n",
            "Epoch: 022/050 | Train MSE: 0.01 | Train Acc: 93.24% | Valid Acc: 92.86%\n",
            "Epoch: 023/050 | Train MSE: 0.01 | Train Acc: 93.33% | Valid Acc: 92.82%\n",
            "Epoch: 024/050 | Train MSE: 0.01 | Train Acc: 93.46% | Valid Acc: 93.14%\n",
            "Epoch: 025/050 | Train MSE: 0.01 | Train Acc: 93.58% | Valid Acc: 93.10%\n",
            "Epoch: 026/050 | Train MSE: 0.01 | Train Acc: 93.66% | Valid Acc: 93.24%\n",
            "Epoch: 027/050 | Train MSE: 0.01 | Train Acc: 93.71% | Valid Acc: 93.43%\n",
            "Epoch: 028/050 | Train MSE: 0.01 | Train Acc: 93.81% | Valid Acc: 93.37%\n",
            "Epoch: 029/050 | Train MSE: 0.01 | Train Acc: 93.84% | Valid Acc: 93.47%\n",
            "Epoch: 030/050 | Train MSE: 0.01 | Train Acc: 93.95% | Valid Acc: 93.37%\n",
            "Epoch: 031/050 | Train MSE: 0.01 | Train Acc: 94.03% | Valid Acc: 93.59%\n",
            "Epoch: 032/050 | Train MSE: 0.01 | Train Acc: 94.09% | Valid Acc: 93.55%\n",
            "Epoch: 033/050 | Train MSE: 0.01 | Train Acc: 94.12% | Valid Acc: 93.61%\n",
            "Epoch: 034/050 | Train MSE: 0.01 | Train Acc: 94.22% | Valid Acc: 93.71%\n",
            "Epoch: 035/050 | Train MSE: 0.01 | Train Acc: 94.27% | Valid Acc: 93.73%\n",
            "Epoch: 036/050 | Train MSE: 0.01 | Train Acc: 94.35% | Valid Acc: 93.76%\n",
            "Epoch: 037/050 | Train MSE: 0.01 | Train Acc: 94.37% | Valid Acc: 93.73%\n",
            "Epoch: 038/050 | Train MSE: 0.01 | Train Acc: 94.49% | Valid Acc: 93.92%\n",
            "Epoch: 039/050 | Train MSE: 0.01 | Train Acc: 94.49% | Valid Acc: 93.94%\n",
            "Epoch: 040/050 | Train MSE: 0.01 | Train Acc: 94.60% | Valid Acc: 93.94%\n",
            "Epoch: 041/050 | Train MSE: 0.01 | Train Acc: 94.64% | Valid Acc: 93.90%\n",
            "Epoch: 042/050 | Train MSE: 0.01 | Train Acc: 94.76% | Valid Acc: 94.04%\n",
            "Epoch: 043/050 | Train MSE: 0.01 | Train Acc: 94.77% | Valid Acc: 94.00%\n",
            "Epoch: 044/050 | Train MSE: 0.01 | Train Acc: 94.81% | Valid Acc: 94.02%\n",
            "Epoch: 045/050 | Train MSE: 0.01 | Train Acc: 94.83% | Valid Acc: 94.00%\n",
            "Epoch: 046/050 | Train MSE: 0.01 | Train Acc: 94.92% | Valid Acc: 94.33%\n",
            "Epoch: 047/050 | Train MSE: 0.01 | Train Acc: 94.95% | Valid Acc: 94.20%\n",
            "Epoch: 048/050 | Train MSE: 0.01 | Train Acc: 95.05% | Valid Acc: 94.29%\n",
            "Epoch: 049/050 | Train MSE: 0.01 | Train Acc: 95.03% | Valid Acc: 94.41%\n",
            "Epoch: 050/050 | Train MSE: 0.01 | Train Acc: 95.17% | Valid Acc: 94.43%\n"
          ]
        }
      ],
      "source": [
        "np.random.seed(42) # for the training set shuffling\n",
        "\n",
        "epoch_loss, epoch_train_acc, epoch_valid_acc = train_model_1HL(\n",
        "    model_1HL, X_train, y_train, X_valid, y_valid,\n",
        "    num_epochs=50, learning_rate=0.1)"
      ]
    },
    {
      "cell_type": "markdown",
      "metadata": {
        "id": "Dmm_J5x9LJ6e"
      },
      "source": [
        "## Evaluating the neural network performance"
      ]
    },
    {
      "cell_type": "code",
      "execution_count": 47,
      "metadata": {
        "colab": {
          "base_uri": "https://localhost:8080/",
          "height": 449
        },
        "id": "SLVyEQ1ELJ6e",
        "outputId": "b002363b-57fc-4cab-ffb6-d0fcdcbddc2d"
      },
      "outputs": [
        {
          "output_type": "display_data",
          "data": {
            "text/plain": [
              "<Figure size 640x480 with 1 Axes>"
            ],
            "image/png": "[encoded data removed]"
          },
          "metadata": {}
        }
      ],
      "source": [
        "plt.plot(range(len(epoch_loss)), epoch_loss)\n",
        "plt.ylabel('Mean squared error')\n",
        "plt.xlabel('Epoch')\n",
        "#plt.savefig('figures/11_07.png', dpi=300)\n",
        "plt.show()"
      ]
    },
    {
      "cell_type": "code",
      "execution_count": 48,
      "metadata": {
        "colab": {
          "base_uri": "https://localhost:8080/",
          "height": 449
        },
        "id": "fwRJcV0yLJ6f",
        "outputId": "9ce72e76-b11d-4152-8ade-412c51a3ebbe"
      },
      "outputs": [
        {
          "output_type": "display_data",
          "data": {
            "text/plain": [
              "<Figure size 640x480 with 1 Axes>"
            ],
            "image/png": "[encoded data removed]"
          },
          "metadata": {}
        }
      ],
      "source": [
        "plt.plot(range(len(epoch_train_acc)), epoch_train_acc,\n",
        "         label='Training')\n",
        "plt.plot(range(len(epoch_valid_acc)), epoch_valid_acc,\n",
        "         label='Validation')\n",
        "plt.ylabel('Accuracy')\n",
        "plt.xlabel('Epochs')\n",
        "plt.legend(loc='lower right')\n",
        "#plt.savefig('figures/11_08.png', dpi=300)\n",
        "plt.show()"
      ]
    },
    {
      "cell_type": "code",
      "execution_count": 88,
      "metadata": {
        "colab": {
          "base_uri": "https://localhost:8080/"
        },
        "id": "iOzhUt36LJ6f",
        "outputId": "ddec01d7-a91b-4b6f-d820-bbfa3a5b3b72"
      },
      "outputs": [
        {
          "output_type": "stream",
          "name": "stdout",
          "text": [
            "Test accuracy: 94.43%\n"
          ]
        }
      ],
      "source": [
        "test_mse, test_acc = compute_mse_and_acc(model_1HL, X_valid, y_valid)\n",
        "print(f'Test accuracy: {test_acc*100:.2f}%')"
      ]
    },
    {
      "cell_type": "code",
      "source": [
        "print(f'Test MSE: {test_mse}')"
      ],
      "metadata": {
        "colab": {
          "base_uri": "https://localhost:8080/"
        },
        "id": "7FikBqfIp8yI",
        "outputId": "f59043d9-22ab-4f8e-ca88-153f72a8cf45"
      },
      "execution_count": 89,
      "outputs": [
        {
          "output_type": "stream",
          "name": "stdout",
          "text": [
            "Test MSE: 0.009716287994522739\n"
          ]
        }
      ]
    },
    {
      "cell_type": "code",
      "source": [
        "auc, roc_data = compute_roc_and_auc(nnet=model_1HL, X=X_test, y=y_test, num_labels=10)\n",
        "print(f\"Macro AUC: {auc:.4f}\")"
      ],
      "metadata": {
        "colab": {
          "base_uri": "https://localhost:8080/"
        },
        "id": "LZln1vTt0edY",
        "outputId": "31922891-8afb-48f5-f8d5-ff8395e72821"
      },
      "execution_count": 50,
      "outputs": [
        {
          "output_type": "stream",
          "name": "stdout",
          "text": [
            "Macro AUC: 0.9918\n"
          ]
        }
      ]
    },
    {
      "cell_type": "code",
      "source": [
        "# Plot ROC curves for all classes\n",
        "plot_roc_for_all_classes(roc_data, num_labels=10)"
      ],
      "metadata": {
        "colab": {
          "base_uri": "https://localhost:8080/",
          "height": 718
        },
        "id": "GHceucXu2TRg",
        "outputId": "41cbcce6-4e8f-4b8a-e2b6-14da3205e160"
      },
      "execution_count": 51,
      "outputs": [
        {
          "output_type": "display_data",
          "data": {
            "text/plain": [
              "<Figure size 1000x800 with 1 Axes>"
            ],
            "image/png": "[encoded data removed]"
          },
          "metadata": {}
        }
      ]
    },
    {
      "cell_type": "markdown",
      "metadata": {
        "id": "Nko6_Bg4XL9F"
      },
      "source": [
        "# **Task 2 + Task 3 (Building the 2-Hidden-Layers model and implement it)**"
      ]
    },
    {
      "cell_type": "markdown",
      "metadata": {
        "id": "UWAa-Nkbdv7z"
      },
      "source": [
        "Task 2:\n",
        "\n",
        "Given the code of chapter 11 that can be found in:\n",
        "https://github.com/rasbt/machine-learning-book/blob/main/ch11/ch11.ipynb\n",
        "your main goal is to extend the code to address two hidden layers (instead of a single hidden layer). Extend the code by creating a local copy of the ch11.ipynb, perform the revisions, and submit the GitHub link to your revised code.\n"
      ]
    },
    {
      "cell_type": "markdown",
      "source": [
        "Task 3:\n",
        "\n",
        "Apply the code of section 2 with the two layers for classifying handwritten digits MNIST dataset using the same full ANN architecture presented in the class (see “Solution 1: A plain deep NN”) and evaluate its prediction performance (macro AUC) using Train(70%)/Test(30%) validation procedure."
      ],
      "metadata": {
        "id": "WO-1d6fYdJ61"
      }
    },
    {
      "cell_type": "markdown",
      "metadata": {
        "id": "NyPCdLNqUG0L"
      },
      "source": [
        "## Check MNIST dataset"
      ]
    },
    {
      "cell_type": "markdown",
      "metadata": {
        "id": "nxPpQ9tLUG0M"
      },
      "source": [
        "Check that the same dataset is used for the Task 2."
      ]
    },
    {
      "cell_type": "code",
      "source": [
        "# Print shapes of the resulting datasets\n",
        "print(\"Training set shape:\", X_train.shape, y_train.shape)\n",
        "print(\"Validation set shape:\", X_valid.shape, y_valid.shape)\n",
        "print(\"Test set shape:\", X_test.shape, y_test.shape)"
      ],
      "metadata": {
        "colab": {
          "base_uri": "https://localhost:8080/"
        },
        "id": "yCB440NpVbuJ",
        "outputId": "8b59f08f-51ff-498d-a490-20fb89373538"
      },
      "execution_count": 52,
      "outputs": [
        {
          "output_type": "stream",
          "name": "stdout",
          "text": [
            "Training set shape: (44100, 784) (44100,)\n",
            "Validation set shape: (4900, 784) (4900,)\n",
            "Test set shape: (21000, 784) (21000,)\n"
          ]
        }
      ]
    },
    {
      "cell_type": "markdown",
      "source": [
        "## Implementing the 2-hidden layer model"
      ],
      "metadata": {
        "id": "t90YP4m8Ue73"
      }
    },
    {
      "cell_type": "code",
      "execution_count": 53,
      "metadata": {
        "id": "BwONfbuRXKW4"
      },
      "outputs": [],
      "source": [
        "##########################\n",
        "### MODEL (2 Hidden Layers)\n",
        "##########################\n",
        "\n",
        "def sigmoid(z):\n",
        "    return 1. / (1. + np.exp(-z))\n",
        "\n",
        "\n",
        "def int_to_onehot(y, num_labels):\n",
        "    ary = np.zeros((y.shape[0], num_labels))\n",
        "    for i, val in enumerate(y):\n",
        "        ary[i, val] = 1\n",
        "    return ary\n",
        "\n",
        "\n",
        "class NeuralNetMLP:\n",
        "\n",
        "    def __init__(self, num_features, num_hidden1, num_hidden2, num_classes, random_seed=42):\n",
        "        super().__init__()\n",
        "\n",
        "        self.num_classes = num_classes\n",
        "\n",
        "        rng = np.random.RandomState(random_seed)\n",
        "\n",
        "        # First hidden layer\n",
        "        self.weight_h1 = rng.normal(loc=0.0, scale=0.1, size=(num_hidden1, num_features))\n",
        "        self.bias_h1 = np.zeros(num_hidden1)\n",
        "\n",
        "        # Second hidden layer\n",
        "        self.weight_h2 = rng.normal(loc=0.0, scale=0.1, size=(num_hidden2, num_hidden1))\n",
        "        self.bias_h2 = np.zeros(num_hidden2)\n",
        "\n",
        "        # Output layer\n",
        "        self.weight_out = rng.normal(loc=0.0, scale=0.1, size=(num_classes, num_hidden2))\n",
        "        self.bias_out = np.zeros(num_classes)\n",
        "\n",
        "    def forward(self, x):\n",
        "        # First hidden layer\n",
        "        z_h1 = np.dot(x, self.weight_h1.T) + self.bias_h1\n",
        "        a_h1 = sigmoid(z_h1)\n",
        "\n",
        "        # Second hidden layer\n",
        "        z_h2 = np.dot(a_h1, self.weight_h2.T) + self.bias_h2\n",
        "        a_h2 = sigmoid(z_h2)\n",
        "\n",
        "        # Output layer\n",
        "        z_out = np.dot(a_h2, self.weight_out.T) + self.bias_out\n",
        "        a_out = sigmoid(z_out)\n",
        "\n",
        "        return a_h1, a_h2, a_out\n",
        "\n",
        "    def backward(self, x, a_h1, a_h2, a_out, y):\n",
        "        y_onehot = int_to_onehot(y, self.num_classes)\n",
        "\n",
        "        # Output layer gradients\n",
        "        d_loss__d_a_out = 2. * (a_out - y_onehot) / y.shape[0]\n",
        "        d_a_out__d_z_out = a_out * (1. - a_out)\n",
        "        delta_out = d_loss__d_a_out * d_a_out__d_z_out\n",
        "\n",
        "        d_loss__dw_out = np.dot(delta_out.T, a_h2)\n",
        "        d_loss__db_out = np.sum(delta_out, axis=0)\n",
        "\n",
        "        # Second hidden layer gradients\n",
        "        d_z_out__a_h2 = self.weight_out\n",
        "        d_loss__a_h2 = np.dot(delta_out, d_z_out__a_h2)\n",
        "        d_a_h2__d_z_h2 = a_h2 * (1. - a_h2)\n",
        "        delta_h2 = d_loss__a_h2 * d_a_h2__d_z_h2\n",
        "\n",
        "        d_loss__dw_h2 = np.dot(delta_h2.T, a_h1)\n",
        "        d_loss__db_h2 = np.sum(delta_h2, axis=0)\n",
        "\n",
        "        # First hidden layer gradients\n",
        "        d_z_h2__a_h1 = self.weight_h2\n",
        "        d_loss__a_h1 = np.dot(delta_h2, d_z_h2__a_h1)\n",
        "        d_a_h1__d_z_h1 = a_h1 * (1. - a_h1)\n",
        "        delta_h1 = d_loss__a_h1 * d_a_h1__d_z_h1\n",
        "\n",
        "        d_loss__dw_h1 = np.dot(delta_h1.T, x)\n",
        "        d_loss__db_h1 = np.sum(delta_h1, axis=0)\n",
        "\n",
        "        return (d_loss__dw_out, d_loss__db_out,\n",
        "                d_loss__dw_h2, d_loss__db_h2,\n",
        "                d_loss__dw_h1, d_loss__db_h1)\n"
      ]
    },
    {
      "cell_type": "code",
      "execution_count": 54,
      "metadata": {
        "id": "BQ0LzIbOXjnA"
      },
      "outputs": [],
      "source": [
        "model_2HL = NeuralNetMLP(num_features=28*28,\n",
        "                     num_hidden1=50,   # First hidden layer size\n",
        "                     num_hidden2=50,   # Second hidden layer size\n",
        "                     num_classes=10)"
      ]
    },
    {
      "cell_type": "code",
      "source": [
        "# model_2HL_500 = NeuralNetMLP(num_features=28*28,\n",
        "#                      num_hidden1=500,   # First hidden layer size\n",
        "#                      num_hidden2=500,   # Second hidden layer size\n",
        "#                      num_classes=10)"
      ],
      "metadata": {
        "id": "T8i6iVXah3QN"
      },
      "execution_count": 55,
      "outputs": []
    },
    {
      "cell_type": "markdown",
      "source": [
        "## Coding the neural network training loop"
      ],
      "metadata": {
        "id": "OH6gFu2HdTyX"
      }
    },
    {
      "cell_type": "code",
      "source": [
        "print(X_train_mini.shape)\n",
        "print(y_train_mini.shape)"
      ],
      "metadata": {
        "colab": {
          "base_uri": "https://localhost:8080/"
        },
        "id": "mpIjW-7qcfID",
        "outputId": "ebc500fc-d1fc-4e42-d31c-c72dbca3b5da"
      },
      "execution_count": 56,
      "outputs": [
        {
          "output_type": "stream",
          "name": "stdout",
          "text": [
            "(100, 784)\n",
            "(100,)\n"
          ]
        }
      ]
    },
    {
      "cell_type": "code",
      "execution_count": 57,
      "metadata": {
        "colab": {
          "base_uri": "https://localhost:8080/"
        },
        "id": "EHLis7W6YHcZ",
        "outputId": "1e8f1011-f7e3-4d20-f8ab-6433603f4108"
      },
      "outputs": [
        {
          "output_type": "stream",
          "name": "stdout",
          "text": [
            "Initial validation MSE: 0.2\n",
            "Initial validation accuracy: 9.0%\n"
          ]
        }
      ],
      "source": [
        "_, _, probas = model_2HL.forward(X_valid)\n",
        "mse = mse_loss(y_valid, probas)\n",
        "\n",
        "predicted_labels = np.argmax(probas, axis=1)\n",
        "acc = accuracy(y_valid, predicted_labels)\n",
        "\n",
        "print(f'Initial validation MSE: {mse:.1f}')\n",
        "print(f'Initial validation accuracy: {acc*100:.1f}%')"
      ]
    },
    {
      "cell_type": "code",
      "source": [
        "# _, _, probas = model_2HL_500.forward(X_valid)\n",
        "# mse = mse_loss(y_valid, probas)\n",
        "\n",
        "# predicted_labels = np.argmax(probas, axis=1)\n",
        "# acc = accuracy(y_valid, predicted_labels)\n",
        "\n",
        "# print(f'Initial validation MSE: {mse:.1f}')\n",
        "# print(f'Initial validation accuracy: {acc*100:.1f}%')"
      ],
      "metadata": {
        "id": "mjEyJAmOh972"
      },
      "execution_count": 58,
      "outputs": []
    },
    {
      "cell_type": "code",
      "execution_count": 59,
      "metadata": {
        "id": "HiFKpRVgYQvd"
      },
      "outputs": [],
      "source": [
        "# mse, acc = compute_mse_and_acc(model_2HL, X_valid, y_valid)\n",
        "# print(f'Initial valid MSE: {mse:.1f}')\n",
        "# print(f'Initial valid accuracy: {acc*100:.1f}%')"
      ]
    },
    {
      "cell_type": "code",
      "source": [
        "# mse, acc = compute_mse_and_acc(model_2HL_500, X_valid, y_valid)\n",
        "# print(f'Initial valid MSE: {mse:.1f}')\n",
        "# print(f'Initial valid accuracy: {acc*100:.1f}%')"
      ],
      "metadata": {
        "id": "SrUJ-Q8ViGZY"
      },
      "execution_count": 60,
      "outputs": []
    },
    {
      "cell_type": "code",
      "execution_count": 61,
      "metadata": {
        "id": "vvkzKwSvYn6u"
      },
      "outputs": [],
      "source": [
        "def train(model, X_train, y_train, X_valid, y_valid, num_epochs,\n",
        "          learning_rate=0.1):\n",
        "\n",
        "    epoch_loss = []\n",
        "    epoch_train_acc = []\n",
        "    epoch_valid_acc = []\n",
        "\n",
        "    for e in range(num_epochs):\n",
        "\n",
        "        # iterate over minibatches\n",
        "        minibatch_gen = minibatch_generator(\n",
        "            X_train, y_train, minibatch_size)\n",
        "\n",
        "        for X_train_mini, y_train_mini in minibatch_gen:\n",
        "\n",
        "            #### Compute outputs ####\n",
        "            a_h1, a_h2, a_out = model.forward(X_train_mini)\n",
        "\n",
        "            #### Compute gradients ####\n",
        "            (d_loss__d_w_out, d_loss__d_b_out,\n",
        "            d_loss__d_w_h2, d_loss__d_b_h2,\n",
        "            d_loss__d_w_h1, d_loss__d_b_h1) = model.backward(X_train_mini, a_h1, a_h2, a_out, y_train_mini)\n",
        "\n",
        "\n",
        "            #### Update weights ####\n",
        "            model.weight_h1 -= learning_rate * d_loss__d_w_h1\n",
        "            model.bias_h1 -= learning_rate * d_loss__d_b_h1\n",
        "\n",
        "            model.weight_h2 -= learning_rate * d_loss__d_w_h2\n",
        "            model.bias_h2 -= learning_rate * d_loss__d_b_h2\n",
        "\n",
        "            model.weight_out -= learning_rate * d_loss__d_w_out\n",
        "            model.bias_out -= learning_rate * d_loss__d_b_out\n",
        "\n",
        "\n",
        "        #### Epoch Logging ####\n",
        "        train_mse, train_acc = compute_mse_and_acc(model, X_train, y_train)\n",
        "        valid_mse, valid_acc = compute_mse_and_acc(model, X_valid, y_valid)\n",
        "        train_acc, valid_acc = train_acc*100, valid_acc*100\n",
        "        epoch_train_acc.append(train_acc)\n",
        "        epoch_valid_acc.append(valid_acc)\n",
        "        epoch_loss.append(train_mse)\n",
        "        print(f'Epoch: {e+1:03d}/{num_epochs:03d} '\n",
        "              f'| Train MSE: {train_mse:.2f} '\n",
        "              f'| Train Acc: {train_acc:.2f}% '\n",
        "              f'| Valid Acc: {valid_acc:.2f}%')\n",
        "\n",
        "    return epoch_loss, epoch_train_acc, epoch_valid_acc"
      ]
    },
    {
      "cell_type": "code",
      "execution_count": 62,
      "metadata": {
        "colab": {
          "base_uri": "https://localhost:8080/"
        },
        "id": "XIkHEOC3Y47c",
        "outputId": "d44c0995-0fa6-40cc-dd77-0e0063c26cdb"
      },
      "outputs": [
        {
          "output_type": "stream",
          "name": "stdout",
          "text": [
            "Epoch: 001/050 | Train MSE: 0.09 | Train Acc: 16.70% | Valid Acc: 16.80%\n",
            "Epoch: 002/050 | Train MSE: 0.09 | Train Acc: 25.81% | Valid Acc: 25.51%\n",
            "Epoch: 003/050 | Train MSE: 0.08 | Train Acc: 28.10% | Valid Acc: 27.71%\n",
            "Epoch: 004/050 | Train MSE: 0.07 | Train Acc: 50.00% | Valid Acc: 49.80%\n",
            "Epoch: 005/050 | Train MSE: 0.06 | Train Acc: 60.42% | Valid Acc: 59.94%\n",
            "Epoch: 006/050 | Train MSE: 0.05 | Train Acc: 65.62% | Valid Acc: 66.31%\n",
            "Epoch: 007/050 | Train MSE: 0.04 | Train Acc: 74.23% | Valid Acc: 74.53%\n",
            "Epoch: 008/050 | Train MSE: 0.04 | Train Acc: 79.75% | Valid Acc: 79.45%\n",
            "Epoch: 009/050 | Train MSE: 0.03 | Train Acc: 82.19% | Valid Acc: 81.96%\n",
            "Epoch: 010/050 | Train MSE: 0.03 | Train Acc: 85.64% | Valid Acc: 85.43%\n",
            "Epoch: 011/050 | Train MSE: 0.03 | Train Acc: 87.46% | Valid Acc: 87.35%\n",
            "Epoch: 012/050 | Train MSE: 0.02 | Train Acc: 88.21% | Valid Acc: 87.96%\n",
            "Epoch: 013/050 | Train MSE: 0.02 | Train Acc: 88.83% | Valid Acc: 88.94%\n",
            "Epoch: 014/050 | Train MSE: 0.02 | Train Acc: 89.61% | Valid Acc: 89.41%\n",
            "Epoch: 015/050 | Train MSE: 0.02 | Train Acc: 90.15% | Valid Acc: 89.98%\n",
            "Epoch: 016/050 | Train MSE: 0.02 | Train Acc: 90.54% | Valid Acc: 90.43%\n",
            "Epoch: 017/050 | Train MSE: 0.02 | Train Acc: 90.87% | Valid Acc: 90.84%\n",
            "Epoch: 018/050 | Train MSE: 0.02 | Train Acc: 91.20% | Valid Acc: 90.96%\n",
            "Epoch: 019/050 | Train MSE: 0.02 | Train Acc: 91.57% | Valid Acc: 91.31%\n",
            "Epoch: 020/050 | Train MSE: 0.01 | Train Acc: 91.81% | Valid Acc: 91.53%\n",
            "Epoch: 021/050 | Train MSE: 0.01 | Train Acc: 92.07% | Valid Acc: 91.92%\n",
            "Epoch: 022/050 | Train MSE: 0.01 | Train Acc: 92.15% | Valid Acc: 91.73%\n",
            "Epoch: 023/050 | Train MSE: 0.01 | Train Acc: 92.40% | Valid Acc: 91.88%\n",
            "Epoch: 024/050 | Train MSE: 0.01 | Train Acc: 92.66% | Valid Acc: 92.20%\n",
            "Epoch: 025/050 | Train MSE: 0.01 | Train Acc: 92.89% | Valid Acc: 92.47%\n",
            "Epoch: 026/050 | Train MSE: 0.01 | Train Acc: 93.04% | Valid Acc: 92.35%\n",
            "Epoch: 027/050 | Train MSE: 0.01 | Train Acc: 93.15% | Valid Acc: 92.47%\n",
            "Epoch: 028/050 | Train MSE: 0.01 | Train Acc: 93.39% | Valid Acc: 92.73%\n",
            "Epoch: 029/050 | Train MSE: 0.01 | Train Acc: 93.46% | Valid Acc: 92.78%\n",
            "Epoch: 030/050 | Train MSE: 0.01 | Train Acc: 93.61% | Valid Acc: 93.27%\n",
            "Epoch: 031/050 | Train MSE: 0.01 | Train Acc: 93.76% | Valid Acc: 93.10%\n",
            "Epoch: 032/050 | Train MSE: 0.01 | Train Acc: 93.85% | Valid Acc: 93.14%\n",
            "Epoch: 033/050 | Train MSE: 0.01 | Train Acc: 93.94% | Valid Acc: 93.37%\n",
            "Epoch: 034/050 | Train MSE: 0.01 | Train Acc: 94.13% | Valid Acc: 93.43%\n",
            "Epoch: 035/050 | Train MSE: 0.01 | Train Acc: 94.20% | Valid Acc: 93.49%\n",
            "Epoch: 036/050 | Train MSE: 0.01 | Train Acc: 94.30% | Valid Acc: 93.41%\n",
            "Epoch: 037/050 | Train MSE: 0.01 | Train Acc: 94.42% | Valid Acc: 93.65%\n",
            "Epoch: 038/050 | Train MSE: 0.01 | Train Acc: 94.54% | Valid Acc: 93.78%\n",
            "Epoch: 039/050 | Train MSE: 0.01 | Train Acc: 94.66% | Valid Acc: 93.98%\n",
            "Epoch: 040/050 | Train MSE: 0.01 | Train Acc: 94.70% | Valid Acc: 93.80%\n",
            "Epoch: 041/050 | Train MSE: 0.01 | Train Acc: 94.71% | Valid Acc: 93.80%\n",
            "Epoch: 042/050 | Train MSE: 0.01 | Train Acc: 94.87% | Valid Acc: 94.08%\n",
            "Epoch: 043/050 | Train MSE: 0.01 | Train Acc: 94.95% | Valid Acc: 94.14%\n",
            "Epoch: 044/050 | Train MSE: 0.01 | Train Acc: 95.02% | Valid Acc: 94.16%\n",
            "Epoch: 045/050 | Train MSE: 0.01 | Train Acc: 95.10% | Valid Acc: 94.27%\n",
            "Epoch: 046/050 | Train MSE: 0.01 | Train Acc: 95.17% | Valid Acc: 94.41%\n",
            "Epoch: 047/050 | Train MSE: 0.01 | Train Acc: 95.27% | Valid Acc: 94.53%\n",
            "Epoch: 048/050 | Train MSE: 0.01 | Train Acc: 95.35% | Valid Acc: 94.51%\n",
            "Epoch: 049/050 | Train MSE: 0.01 | Train Acc: 95.42% | Valid Acc: 94.59%\n",
            "Epoch: 050/050 | Train MSE: 0.01 | Train Acc: 95.45% | Valid Acc: 94.65%\n"
          ]
        }
      ],
      "source": [
        "np.random.seed(42)\n",
        "\n",
        "epoch_loss, epoch_train_acc, epoch_valid_acc = train(\n",
        "    model_2HL, X_train, y_train, X_valid, y_valid,\n",
        "    num_epochs=50, learning_rate=0.1)"
      ]
    },
    {
      "cell_type": "code",
      "source": [
        "# np.random.seed(123)\n",
        "\n",
        "# epoch_loss, epoch_train_acc, epoch_valid_acc = train(\n",
        "#     model_2HL_500, X_train, y_train, X_valid, y_valid,\n",
        "#     num_epochs=50, learning_rate=0.1)"
      ],
      "metadata": {
        "id": "SODtFJ2qiVJW"
      },
      "execution_count": 63,
      "outputs": []
    },
    {
      "cell_type": "markdown",
      "metadata": {
        "id": "K8rhL_TqZuOb"
      },
      "source": [
        "## Evaluating the neural network performance"
      ]
    },
    {
      "cell_type": "code",
      "execution_count": 64,
      "metadata": {
        "colab": {
          "base_uri": "https://localhost:8080/",
          "height": 449
        },
        "id": "-kv7XNujZxD8",
        "outputId": "c98d0f43-4672-42ae-bb7a-ae36e0a7e017"
      },
      "outputs": [
        {
          "output_type": "display_data",
          "data": {
            "text/plain": [
              "<Figure size 640x480 with 1 Axes>"
            ],
            "image/png": "[encoded data removed]"
          },
          "metadata": {}
        }
      ],
      "source": [
        "plt.plot(range(len(epoch_loss)), epoch_loss)\n",
        "plt.ylabel('Mean squared error')\n",
        "plt.xlabel('Epoch')\n",
        "#plt.savefig('figures/11_07.png', dpi=300)\n",
        "plt.show()"
      ]
    },
    {
      "cell_type": "code",
      "execution_count": 65,
      "metadata": {
        "colab": {
          "base_uri": "https://localhost:8080/",
          "height": 449
        },
        "id": "Uaq2pwbNZ2a8",
        "outputId": "29cc74f2-132c-4dda-b17e-feacd22f1cf6"
      },
      "outputs": [
        {
          "output_type": "display_data",
          "data": {
            "text/plain": [
              "<Figure size 640x480 with 1 Axes>"
            ],
            "image/png": "[encoded data removed]"
          },
          "metadata": {}
        }
      ],
      "source": [
        "plt.plot(range(len(epoch_train_acc)), epoch_train_acc,\n",
        "         label='Training')\n",
        "plt.plot(range(len(epoch_valid_acc)), epoch_valid_acc,\n",
        "         label='Validation')\n",
        "plt.ylabel('Accuracy')\n",
        "plt.xlabel('Epochs')\n",
        "plt.legend(loc='lower right')\n",
        "#plt.savefig('figures/11_08.png', dpi=300)\n",
        "plt.show()"
      ]
    },
    {
      "cell_type": "code",
      "execution_count": 90,
      "metadata": {
        "colab": {
          "base_uri": "https://localhost:8080/"
        },
        "id": "9VspsPB_Z6-0",
        "outputId": "635460bb-4e64-4bde-892f-eda1007b7f9e"
      },
      "outputs": [
        {
          "output_type": "stream",
          "name": "stdout",
          "text": [
            "Test accuracy: 94.55%\n"
          ]
        }
      ],
      "source": [
        "test_mse, test_acc = compute_mse_and_acc(model_2HL, X_test, y_test)\n",
        "print(f'Test accuracy: {test_acc*100:.2f}%')"
      ]
    },
    {
      "cell_type": "code",
      "source": [
        "print(f'Test MSE: {test_mse}')"
      ],
      "metadata": {
        "colab": {
          "base_uri": "https://localhost:8080/"
        },
        "id": "69LMSC1AqIy9",
        "outputId": "d1910ee7-f279-43d2-949a-b60ce209577a"
      },
      "execution_count": 91,
      "outputs": [
        {
          "output_type": "stream",
          "name": "stdout",
          "text": [
            "Test MSE: 0.009135107941366186\n"
          ]
        }
      ]
    },
    {
      "cell_type": "code",
      "source": [
        "auc, roc_data = compute_roc_and_auc(nnet=model_2HL, X=X_test, y=y_test, num_labels=10)\n",
        "print(f\"Macro AUC: {auc:.4f}\")"
      ],
      "metadata": {
        "colab": {
          "base_uri": "https://localhost:8080/"
        },
        "id": "dUZVHXEc8tmi",
        "outputId": "c0595eb2-2d5e-4211-8744-3cec5392d76d"
      },
      "execution_count": 67,
      "outputs": [
        {
          "output_type": "stream",
          "name": "stdout",
          "text": [
            "Macro AUC: 0.9933\n"
          ]
        }
      ]
    },
    {
      "cell_type": "code",
      "source": [
        "# Plot ROC curves for all classes\n",
        "plot_roc_for_all_classes(roc_data, num_labels=10)"
      ],
      "metadata": {
        "colab": {
          "base_uri": "https://localhost:8080/",
          "height": 718
        },
        "id": "eFC85ARp4GWB",
        "outputId": "a7756ecf-e8b5-48c0-d0e4-fb262b6e3e0d"
      },
      "execution_count": 68,
      "outputs": [
        {
          "output_type": "display_data",
          "data": {
            "text/plain": [
              "<Figure size 1000x800 with 1 Axes>"
            ],
            "image/png": "[encoded data removed]"
          },
          "metadata": {}
        }
      ]
    },
    {
      "cell_type": "markdown",
      "source": [
        "2HL - 500 parameters per hidden layer"
      ],
      "metadata": {
        "id": "AT-4gUC2lu2O"
      }
    },
    {
      "cell_type": "code",
      "source": [
        "# plt.plot(range(len(epoch_loss)), epoch_loss)\n",
        "# plt.ylabel('Mean squared error')\n",
        "# plt.xlabel('Epoch')\n",
        "# #plt.savefig('figures/11_07.png', dpi=300)\n",
        "# plt.show()"
      ],
      "metadata": {
        "id": "sytK8lDTltkT"
      },
      "execution_count": 69,
      "outputs": []
    },
    {
      "cell_type": "code",
      "source": [
        "# plt.plot(range(len(epoch_train_acc)), epoch_train_acc,\n",
        "#          label='Training')\n",
        "# plt.plot(range(len(epoch_valid_acc)), epoch_valid_acc,\n",
        "#          label='Validation')\n",
        "# plt.ylabel('Accuracy')\n",
        "# plt.xlabel('Epochs')\n",
        "# plt.legend(loc='lower right')\n",
        "# #plt.savefig('figures/11_08.png', dpi=300)\n",
        "# plt.show()"
      ],
      "metadata": {
        "id": "V0jPmTgWl2ZD"
      },
      "execution_count": 70,
      "outputs": []
    },
    {
      "cell_type": "code",
      "source": [
        "# test_mse, test_acc = compute_mse_and_acc(model_2HL_500, X_test, y_test)\n",
        "# print(f'Test accuracy: {test_acc*100:.2f}%')"
      ],
      "metadata": {
        "id": "jYeXyAxml9lJ"
      },
      "execution_count": 71,
      "outputs": []
    },
    {
      "cell_type": "code",
      "source": [
        "# auc, roc_data = compute_roc_and_auc(nnet=model_2HL, X=X_test, y=y_test, num_labels=10)\n",
        "# print(f\"Macro AUC: {auc:.4f}\")"
      ],
      "metadata": {
        "id": "AK9itPjR4R7g"
      },
      "execution_count": 72,
      "outputs": []
    },
    {
      "cell_type": "code",
      "source": [
        "# # Plot ROC curves for all classes\n",
        "# plot_roc_for_all_classes(roc_data, num_labels=10)"
      ],
      "metadata": {
        "id": "p09xu-WX4S_G"
      },
      "execution_count": 73,
      "outputs": []
    },
    {
      "cell_type": "markdown",
      "metadata": {
        "id": "2wN01FYkdgze"
      },
      "source": [
        "# **Task 4 - Keras**"
      ]
    },
    {
      "cell_type": "markdown",
      "metadata": {
        "id": "ozbcjRsZd4ve"
      },
      "source": [
        "Compare the predictive performance of section 3 with the original (single hidden layer) code and with the fully connected ANN implemented in Keras/TensorFlow/PyTorch (choose one)."
      ]
    },
    {
      "cell_type": "markdown",
      "source": [
        "## Check MNIST dataset"
      ],
      "metadata": {
        "id": "Vt_2KE4FBKCz"
      }
    },
    {
      "cell_type": "code",
      "source": [
        "# Print shapes of the resulting datasets\n",
        "print(\"Training set shape:\", X_train.shape, y_train.shape)\n",
        "print(\"Validation set shape:\", X_valid.shape, y_valid.shape)\n",
        "print(\"Test set shape:\", X_test.shape, y_test.shape)"
      ],
      "metadata": {
        "colab": {
          "base_uri": "https://localhost:8080/"
        },
        "outputId": "5742450a-6112-49bc-c004-26b082196279",
        "id": "vZiduVP6BSrw"
      },
      "execution_count": 74,
      "outputs": [
        {
          "output_type": "stream",
          "name": "stdout",
          "text": [
            "Training set shape: (44100, 784) (44100,)\n",
            "Validation set shape: (4900, 784) (4900,)\n",
            "Test set shape: (21000, 784) (21000,)\n"
          ]
        }
      ]
    },
    {
      "cell_type": "markdown",
      "source": [
        "## Implementing fully connected ANN in Keras"
      ],
      "metadata": {
        "id": "TiBqc2EU9C_t"
      }
    },
    {
      "cell_type": "code",
      "source": [
        "# One-Hot Encode Labels\n",
        "y_train_oh = to_categorical(y_train, num_classes=10)\n",
        "y_valid_oh = to_categorical(y_valid, num_classes=10)"
      ],
      "metadata": {
        "id": "wZWD4Mq3-1Eo"
      },
      "execution_count": 75,
      "outputs": []
    },
    {
      "cell_type": "code",
      "execution_count": 76,
      "metadata": {
        "colab": {
          "base_uri": "https://localhost:8080/"
        },
        "id": "mPa5lR0jggmd",
        "outputId": "a4cef90b-19e4-4030-af92-fe6f8cc8a074"
      },
      "outputs": [
        {
          "output_type": "stream",
          "name": "stderr",
          "text": [
            "/usr/local/lib/python3.11/dist-packages/keras/src/layers/core/dense.py:87: UserWarning: Do not pass an `input_shape`/`input_dim` argument to a layer. When using Sequential models, prefer using an `Input(shape)` object as the first layer in the model instead.\n",
            "  super().__init__(activity_regularizer=activity_regularizer, **kwargs)\n"
          ]
        }
      ],
      "source": [
        "# Define the Model\n",
        "model_Keras = Sequential([\n",
        "    Dense(50, activation='sigmoid', input_shape=(784,)),  # Specify input shape\n",
        "    Dense(50, activation='sigmoid'),\n",
        "    Dense(10, activation='softmax')\n",
        "])"
      ]
    },
    {
      "cell_type": "code",
      "source": [
        "# Compile the Model\n",
        "model_Keras.compile(optimizer=tf.keras.optimizers.SGD(learning_rate=0.1),\n",
        "                    loss='categorical_crossentropy',\n",
        "                    metrics=['accuracy'])"
      ],
      "metadata": {
        "id": "cKANqQK5uqD8"
      },
      "execution_count": 77,
      "outputs": []
    },
    {
      "cell_type": "markdown",
      "source": [
        "## Coding the neural network training loop"
      ],
      "metadata": {
        "id": "KuipodlTBpSK"
      }
    },
    {
      "cell_type": "code",
      "source": [
        "# Train the Model\n",
        "history = model_Keras.fit(X_train, y_train_oh, batch_size=100, epochs=50, verbose=2, validation_data=(X_valid, y_valid_oh))"
      ],
      "metadata": {
        "colab": {
          "base_uri": "https://localhost:8080/"
        },
        "id": "ag5yZ3Uc9cie",
        "outputId": "352fa189-8418-4580-827e-74e4a8fa8bc7"
      },
      "execution_count": 78,
      "outputs": [
        {
          "output_type": "stream",
          "name": "stdout",
          "text": [
            "Epoch 1/50\n",
            "441/441 - 2s - 5ms/step - accuracy: 0.6037 - loss: 1.5709 - val_accuracy: 0.8045 - val_loss: 0.8526\n",
            "Epoch 2/50\n",
            "441/441 - 2s - 5ms/step - accuracy: 0.8484 - loss: 0.6284 - val_accuracy: 0.8808 - val_loss: 0.4821\n",
            "Epoch 3/50\n",
            "441/441 - 2s - 5ms/step - accuracy: 0.8882 - loss: 0.4257 - val_accuracy: 0.9006 - val_loss: 0.3755\n",
            "Epoch 4/50\n",
            "441/441 - 1s - 3ms/step - accuracy: 0.9016 - loss: 0.3548 - val_accuracy: 0.9102 - val_loss: 0.3301\n",
            "Epoch 5/50\n",
            "441/441 - 1s - 3ms/step - accuracy: 0.9106 - loss: 0.3157 - val_accuracy: 0.9145 - val_loss: 0.3034\n",
            "Epoch 6/50\n",
            "441/441 - 1s - 3ms/step - accuracy: 0.9175 - loss: 0.2882 - val_accuracy: 0.9210 - val_loss: 0.2785\n",
            "Epoch 7/50\n",
            "441/441 - 1s - 2ms/step - accuracy: 0.9234 - loss: 0.2663 - val_accuracy: 0.9251 - val_loss: 0.2590\n",
            "Epoch 8/50\n",
            "441/441 - 1s - 3ms/step - accuracy: 0.9288 - loss: 0.2483 - val_accuracy: 0.9273 - val_loss: 0.2488\n",
            "Epoch 9/50\n",
            "441/441 - 1s - 3ms/step - accuracy: 0.9331 - loss: 0.2320 - val_accuracy: 0.9302 - val_loss: 0.2356\n",
            "Epoch 10/50\n",
            "441/441 - 1s - 3ms/step - accuracy: 0.9372 - loss: 0.2178 - val_accuracy: 0.9339 - val_loss: 0.2238\n",
            "Epoch 11/50\n",
            "441/441 - 2s - 4ms/step - accuracy: 0.9424 - loss: 0.2033 - val_accuracy: 0.9378 - val_loss: 0.2140\n",
            "Epoch 12/50\n",
            "441/441 - 2s - 4ms/step - accuracy: 0.9446 - loss: 0.1922 - val_accuracy: 0.9404 - val_loss: 0.1988\n",
            "Epoch 13/50\n",
            "441/441 - 2s - 5ms/step - accuracy: 0.9485 - loss: 0.1804 - val_accuracy: 0.9424 - val_loss: 0.1944\n",
            "Epoch 14/50\n",
            "441/441 - 1s - 3ms/step - accuracy: 0.9528 - loss: 0.1698 - val_accuracy: 0.9459 - val_loss: 0.1826\n",
            "Epoch 15/50\n",
            "441/441 - 1s - 3ms/step - accuracy: 0.9555 - loss: 0.1606 - val_accuracy: 0.9469 - val_loss: 0.1812\n",
            "Epoch 16/50\n",
            "441/441 - 1s - 3ms/step - accuracy: 0.9580 - loss: 0.1528 - val_accuracy: 0.9506 - val_loss: 0.1680\n",
            "Epoch 17/50\n",
            "441/441 - 1s - 3ms/step - accuracy: 0.9599 - loss: 0.1446 - val_accuracy: 0.9500 - val_loss: 0.1649\n",
            "Epoch 18/50\n",
            "441/441 - 1s - 2ms/step - accuracy: 0.9615 - loss: 0.1381 - val_accuracy: 0.9524 - val_loss: 0.1548\n",
            "Epoch 19/50\n",
            "441/441 - 1s - 3ms/step - accuracy: 0.9634 - loss: 0.1316 - val_accuracy: 0.9541 - val_loss: 0.1515\n",
            "Epoch 20/50\n",
            "441/441 - 1s - 3ms/step - accuracy: 0.9662 - loss: 0.1252 - val_accuracy: 0.9557 - val_loss: 0.1474\n",
            "Epoch 21/50\n",
            "441/441 - 2s - 4ms/step - accuracy: 0.9666 - loss: 0.1203 - val_accuracy: 0.9549 - val_loss: 0.1460\n",
            "Epoch 22/50\n",
            "441/441 - 3s - 6ms/step - accuracy: 0.9683 - loss: 0.1155 - val_accuracy: 0.9584 - val_loss: 0.1446\n",
            "Epoch 23/50\n",
            "441/441 - 1s - 2ms/step - accuracy: 0.9699 - loss: 0.1102 - val_accuracy: 0.9606 - val_loss: 0.1378\n",
            "Epoch 24/50\n",
            "441/441 - 1s - 3ms/step - accuracy: 0.9703 - loss: 0.1067 - val_accuracy: 0.9596 - val_loss: 0.1342\n",
            "Epoch 25/50\n",
            "441/441 - 1s - 2ms/step - accuracy: 0.9721 - loss: 0.1023 - val_accuracy: 0.9596 - val_loss: 0.1310\n",
            "Epoch 26/50\n",
            "441/441 - 1s - 2ms/step - accuracy: 0.9739 - loss: 0.0984 - val_accuracy: 0.9602 - val_loss: 0.1311\n",
            "Epoch 27/50\n",
            "441/441 - 1s - 3ms/step - accuracy: 0.9736 - loss: 0.0955 - val_accuracy: 0.9629 - val_loss: 0.1265\n",
            "Epoch 28/50\n",
            "441/441 - 1s - 2ms/step - accuracy: 0.9751 - loss: 0.0926 - val_accuracy: 0.9633 - val_loss: 0.1261\n",
            "Epoch 29/50\n",
            "441/441 - 1s - 3ms/step - accuracy: 0.9761 - loss: 0.0893 - val_accuracy: 0.9627 - val_loss: 0.1250\n",
            "Epoch 30/50\n",
            "441/441 - 1s - 2ms/step - accuracy: 0.9760 - loss: 0.0863 - val_accuracy: 0.9624 - val_loss: 0.1235\n",
            "Epoch 31/50\n",
            "441/441 - 1s - 2ms/step - accuracy: 0.9766 - loss: 0.0840 - val_accuracy: 0.9637 - val_loss: 0.1194\n",
            "Epoch 32/50\n",
            "441/441 - 1s - 3ms/step - accuracy: 0.9781 - loss: 0.0816 - val_accuracy: 0.9643 - val_loss: 0.1198\n",
            "Epoch 33/50\n",
            "441/441 - 3s - 6ms/step - accuracy: 0.9785 - loss: 0.0790 - val_accuracy: 0.9633 - val_loss: 0.1174\n",
            "Epoch 34/50\n",
            "441/441 - 2s - 4ms/step - accuracy: 0.9794 - loss: 0.0767 - val_accuracy: 0.9651 - val_loss: 0.1174\n",
            "Epoch 35/50\n",
            "441/441 - 1s - 3ms/step - accuracy: 0.9799 - loss: 0.0745 - val_accuracy: 0.9651 - val_loss: 0.1153\n",
            "Epoch 36/50\n",
            "441/441 - 1s - 3ms/step - accuracy: 0.9805 - loss: 0.0725 - val_accuracy: 0.9665 - val_loss: 0.1147\n",
            "Epoch 37/50\n",
            "441/441 - 1s - 3ms/step - accuracy: 0.9811 - loss: 0.0703 - val_accuracy: 0.9657 - val_loss: 0.1134\n",
            "Epoch 38/50\n",
            "441/441 - 1s - 3ms/step - accuracy: 0.9822 - loss: 0.0685 - val_accuracy: 0.9678 - val_loss: 0.1125\n",
            "Epoch 39/50\n",
            "441/441 - 1s - 2ms/step - accuracy: 0.9822 - loss: 0.0669 - val_accuracy: 0.9647 - val_loss: 0.1168\n",
            "Epoch 40/50\n",
            "441/441 - 1s - 3ms/step - accuracy: 0.9826 - loss: 0.0649 - val_accuracy: 0.9688 - val_loss: 0.1080\n",
            "Epoch 41/50\n",
            "441/441 - 2s - 3ms/step - accuracy: 0.9839 - loss: 0.0631 - val_accuracy: 0.9676 - val_loss: 0.1090\n",
            "Epoch 42/50\n",
            "441/441 - 3s - 6ms/step - accuracy: 0.9836 - loss: 0.0614 - val_accuracy: 0.9671 - val_loss: 0.1103\n",
            "Epoch 43/50\n",
            "441/441 - 2s - 4ms/step - accuracy: 0.9838 - loss: 0.0602 - val_accuracy: 0.9686 - val_loss: 0.1129\n",
            "Epoch 44/50\n",
            "441/441 - 1s - 3ms/step - accuracy: 0.9851 - loss: 0.0582 - val_accuracy: 0.9682 - val_loss: 0.1081\n",
            "Epoch 45/50\n",
            "441/441 - 1s - 3ms/step - accuracy: 0.9851 - loss: 0.0565 - val_accuracy: 0.9667 - val_loss: 0.1098\n",
            "Epoch 46/50\n",
            "441/441 - 1s - 2ms/step - accuracy: 0.9854 - loss: 0.0556 - val_accuracy: 0.9676 - val_loss: 0.1085\n",
            "Epoch 47/50\n",
            "441/441 - 1s - 2ms/step - accuracy: 0.9863 - loss: 0.0539 - val_accuracy: 0.9686 - val_loss: 0.1070\n",
            "Epoch 48/50\n",
            "441/441 - 1s - 2ms/step - accuracy: 0.9863 - loss: 0.0529 - val_accuracy: 0.9686 - val_loss: 0.1062\n",
            "Epoch 49/50\n",
            "441/441 - 1s - 3ms/step - accuracy: 0.9866 - loss: 0.0520 - val_accuracy: 0.9682 - val_loss: 0.1040\n",
            "Epoch 50/50\n",
            "441/441 - 1s - 3ms/step - accuracy: 0.9873 - loss: 0.0504 - val_accuracy: 0.9690 - val_loss: 0.1044\n"
          ]
        }
      ]
    },
    {
      "cell_type": "code",
      "source": [
        "# Print the model summary\n",
        "model_Keras.summary()"
      ],
      "metadata": {
        "colab": {
          "base_uri": "https://localhost:8080/",
          "height": 255
        },
        "id": "S3sP5vvp_Woz",
        "outputId": "c5d4a15b-8a99-404c-8d63-3a2d27b9c815"
      },
      "execution_count": 79,
      "outputs": [
        {
          "output_type": "display_data",
          "data": {
            "text/plain": [
              "\u001b[1mModel: \"sequential\"\u001b[0m\n"
            ],
            "text/html": [
              "<pre style=\"white-space:pre;overflow-x:auto;line-height:normal;font-family:Menlo,'DejaVu Sans Mono',consolas,'Courier New',monospace\"><span style=\"font-weight: bold\">Model: \"sequential\"</span>\n",
              "</pre>\n"
            ]
          },
          "metadata": {}
        },
        {
          "output_type": "display_data",
          "data": {
            "text/plain": [
              "┏━━━━━━━━━━━━━━━━━━━━━━━━━━━━━━━━━━━━━━┳━━━━━━━━━━━━━━━━━━━━━━━━━━━━━┳━━━━━━━━━━━━━━━━━┓\n",
              "┃\u001b[1m \u001b[0m\u001b[1mLayer (type)                        \u001b[0m\u001b[1m \u001b[0m┃\u001b[1m \u001b[0m\u001b[1mOutput Shape               \u001b[0m\u001b[1m \u001b[0m┃\u001b[1m \u001b[0m\u001b[1m        Param #\u001b[0m\u001b[1m \u001b[0m┃\n",
              "┡━━━━━━━━━━━━━━━━━━━━━━━━━━━━━━━━━━━━━━╇━━━━━━━━━━━━━━━━━━━━━━━━━━━━━╇━━━━━━━━━━━━━━━━━┩\n",
              "│ dense (\u001b[38;5;33mDense\u001b[0m)                        │ (\u001b[38;5;45mNone\u001b[0m, \u001b[38;5;34m50\u001b[0m)                  │          \u001b[38;5;34m39,250\u001b[0m │\n",
              "├──────────────────────────────────────┼─────────────────────────────┼─────────────────┤\n",
              "│ dense_1 (\u001b[38;5;33mDense\u001b[0m)                      │ (\u001b[38;5;45mNone\u001b[0m, \u001b[38;5;34m50\u001b[0m)                  │           \u001b[38;5;34m2,550\u001b[0m │\n",
              "├──────────────────────────────────────┼─────────────────────────────┼─────────────────┤\n",
              "│ dense_2 (\u001b[38;5;33mDense\u001b[0m)                      │ (\u001b[38;5;45mNone\u001b[0m, \u001b[38;5;34m10\u001b[0m)                  │             \u001b[38;5;34m510\u001b[0m │\n",
              "└──────────────────────────────────────┴─────────────────────────────┴─────────────────┘\n"
            ],
            "text/html": [
              "<pre style=\"white-space:pre;overflow-x:auto;line-height:normal;font-family:Menlo,'DejaVu Sans Mono',consolas,'Courier New',monospace\">┏━━━━━━━━━━━━━━━━━━━━━━━━━━━━━━━━━━━━━━┳━━━━━━━━━━━━━━━━━━━━━━━━━━━━━┳━━━━━━━━━━━━━━━━━┓\n",
              "┃<span style=\"font-weight: bold\"> Layer (type)                         </span>┃<span style=\"font-weight: bold\"> Output Shape                </span>┃<span style=\"font-weight: bold\">         Param # </span>┃\n",
              "┡━━━━━━━━━━━━━━━━━━━━━━━━━━━━━━━━━━━━━━╇━━━━━━━━━━━━━━━━━━━━━━━━━━━━━╇━━━━━━━━━━━━━━━━━┩\n",
              "│ dense (<span style=\"color: #0087ff; text-decoration-color: #0087ff\">Dense</span>)                        │ (<span style=\"color: #00d7ff; text-decoration-color: #00d7ff\">None</span>, <span style=\"color: #00af00; text-decoration-color: #00af00\">50</span>)                  │          <span style=\"color: #00af00; text-decoration-color: #00af00\">39,250</span> │\n",
              "├──────────────────────────────────────┼─────────────────────────────┼─────────────────┤\n",
              "│ dense_1 (<span style=\"color: #0087ff; text-decoration-color: #0087ff\">Dense</span>)                      │ (<span style=\"color: #00d7ff; text-decoration-color: #00d7ff\">None</span>, <span style=\"color: #00af00; text-decoration-color: #00af00\">50</span>)                  │           <span style=\"color: #00af00; text-decoration-color: #00af00\">2,550</span> │\n",
              "├──────────────────────────────────────┼─────────────────────────────┼─────────────────┤\n",
              "│ dense_2 (<span style=\"color: #0087ff; text-decoration-color: #0087ff\">Dense</span>)                      │ (<span style=\"color: #00d7ff; text-decoration-color: #00d7ff\">None</span>, <span style=\"color: #00af00; text-decoration-color: #00af00\">10</span>)                  │             <span style=\"color: #00af00; text-decoration-color: #00af00\">510</span> │\n",
              "└──────────────────────────────────────┴─────────────────────────────┴─────────────────┘\n",
              "</pre>\n"
            ]
          },
          "metadata": {}
        },
        {
          "output_type": "display_data",
          "data": {
            "text/plain": [
              "\u001b[1m Total params: \u001b[0m\u001b[38;5;34m42,312\u001b[0m (165.29 KB)\n"
            ],
            "text/html": [
              "<pre style=\"white-space:pre;overflow-x:auto;line-height:normal;font-family:Menlo,'DejaVu Sans Mono',consolas,'Courier New',monospace\"><span style=\"font-weight: bold\"> Total params: </span><span style=\"color: #00af00; text-decoration-color: #00af00\">42,312</span> (165.29 KB)\n",
              "</pre>\n"
            ]
          },
          "metadata": {}
        },
        {
          "output_type": "display_data",
          "data": {
            "text/plain": [
              "\u001b[1m Trainable params: \u001b[0m\u001b[38;5;34m42,310\u001b[0m (165.27 KB)\n"
            ],
            "text/html": [
              "<pre style=\"white-space:pre;overflow-x:auto;line-height:normal;font-family:Menlo,'DejaVu Sans Mono',consolas,'Courier New',monospace\"><span style=\"font-weight: bold\"> Trainable params: </span><span style=\"color: #00af00; text-decoration-color: #00af00\">42,310</span> (165.27 KB)\n",
              "</pre>\n"
            ]
          },
          "metadata": {}
        },
        {
          "output_type": "display_data",
          "data": {
            "text/plain": [
              "\u001b[1m Non-trainable params: \u001b[0m\u001b[38;5;34m0\u001b[0m (0.00 B)\n"
            ],
            "text/html": [
              "<pre style=\"white-space:pre;overflow-x:auto;line-height:normal;font-family:Menlo,'DejaVu Sans Mono',consolas,'Courier New',monospace\"><span style=\"font-weight: bold\"> Non-trainable params: </span><span style=\"color: #00af00; text-decoration-color: #00af00\">0</span> (0.00 B)\n",
              "</pre>\n"
            ]
          },
          "metadata": {}
        },
        {
          "output_type": "display_data",
          "data": {
            "text/plain": [
              "\u001b[1m Optimizer params: \u001b[0m\u001b[38;5;34m2\u001b[0m (12.00 B)\n"
            ],
            "text/html": [
              "<pre style=\"white-space:pre;overflow-x:auto;line-height:normal;font-family:Menlo,'DejaVu Sans Mono',consolas,'Courier New',monospace\"><span style=\"font-weight: bold\"> Optimizer params: </span><span style=\"color: #00af00; text-decoration-color: #00af00\">2</span> (12.00 B)\n",
              "</pre>\n"
            ]
          },
          "metadata": {}
        }
      ]
    },
    {
      "cell_type": "markdown",
      "source": [
        "## Evaluating the neural network performance"
      ],
      "metadata": {
        "id": "r4M_RtevBtZR"
      }
    },
    {
      "cell_type": "code",
      "source": [
        "plt.figure()\n",
        "plt.plot(history.history['loss'])\n",
        "plt.ylabel('Mean squared error')\n",
        "plt.xlabel('Epoch')\n",
        "plt.show()"
      ],
      "metadata": {
        "colab": {
          "base_uri": "https://localhost:8080/",
          "height": 449
        },
        "id": "mY36BDn8uYxK",
        "outputId": "45f81785-c760-4517-ead2-b34eb0be3952"
      },
      "execution_count": 80,
      "outputs": [
        {
          "output_type": "display_data",
          "data": {
            "text/plain": [
              "<Figure size 640x480 with 1 Axes>"
            ],
            "image/png": "[encoded data removed]"
          },
          "metadata": {}
        }
      ]
    },
    {
      "cell_type": "code",
      "source": [
        "# Plot training vs validation accuracy\n",
        "plt.figure()\n",
        "plt.plot(history.history['accuracy'], label='Training')\n",
        "plt.plot(history.history['val_accuracy'], label='Validation')\n",
        "plt.ylabel('Accuracy')\n",
        "plt.xlabel('Epochs')\n",
        "plt.legend(loc='lower right')\n",
        "plt.show()"
      ],
      "metadata": {
        "colab": {
          "base_uri": "https://localhost:8080/",
          "height": 449
        },
        "id": "mpDxCZsSudSM",
        "outputId": "e4f9d533-8419-479a-8469-4d30f0f2a5af"
      },
      "execution_count": 81,
      "outputs": [
        {
          "output_type": "display_data",
          "data": {
            "text/plain": [
              "<Figure size 640x480 with 1 Axes>"
            ],
            "image/png": "[encoded data removed]"
          },
          "metadata": {}
        }
      ]
    },
    {
      "cell_type": "code",
      "source": [
        "# Convert y_test to one-hot encoded format\n",
        "y_test_oh = to_categorical(y_test, num_classes=10)\n",
        "\n",
        "# Now evaluate\n",
        "test_loss, test_acc = model_Keras.evaluate(X_test, y_test_oh, verbose=0)\n",
        "print(f'Test accuracy: {test_acc*100:.2f}%')"
      ],
      "metadata": {
        "colab": {
          "base_uri": "https://localhost:8080/"
        },
        "id": "QO7pwF5i_vIb",
        "outputId": "e3ae6928-9a3e-471b-c702-dcd2a5f60389"
      },
      "execution_count": 92,
      "outputs": [
        {
          "output_type": "stream",
          "name": "stdout",
          "text": [
            "Test accuracy: 96.64%\n"
          ]
        }
      ]
    },
    {
      "cell_type": "code",
      "source": [
        "# Get model predictions (probabilities)\n",
        "y_pred_proba = model_Keras.predict(X_test)\n",
        "\n",
        "# Compute MSE\n",
        "mse = np.mean((y_test_oh - y_pred_proba) ** 2)\n",
        "print(f'Test MSE: {mse:.6f}')"
      ],
      "metadata": {
        "colab": {
          "base_uri": "https://localhost:8080/"
        },
        "id": "hSJ-nA_Iqmp1",
        "outputId": "0b312821-fab3-4b1c-b077-589935ba16f6"
      },
      "execution_count": 94,
      "outputs": [
        {
          "output_type": "stream",
          "name": "stdout",
          "text": [
            "\u001b[1m657/657\u001b[0m \u001b[32m━━━━━━━━━━━━━━━━━━━━\u001b[0m\u001b[37m\u001b[0m \u001b[1m1s\u001b[0m 1ms/step\n",
            "Test MSE: 0.005102\n"
          ]
        }
      ]
    },
    {
      "cell_type": "code",
      "source": [
        "# Compute ROC and AUC for a custom neural network\n",
        "auc, roc_data = compute_roc_and_auc(nnet=model_Keras, X=X_test, y=y_test, num_labels=10, minibatch_size=100, is_keras=True)\n",
        "print(f\"Macro AUC (Custom NN): {auc:.4f}\")"
      ],
      "metadata": {
        "colab": {
          "base_uri": "https://localhost:8080/"
        },
        "id": "nMJoYF5H__V4",
        "outputId": "399ec091-c1ea-4216-b795-97046f453949"
      },
      "execution_count": 83,
      "outputs": [
        {
          "output_type": "stream",
          "name": "stdout",
          "text": [
            "\u001b[1m657/657\u001b[0m \u001b[32m━━━━━━━━━━━━━━━━━━━━\u001b[0m\u001b[37m\u001b[0m \u001b[1m1s\u001b[0m 2ms/step\n",
            "Macro AUC (Custom NN): 0.9989\n"
          ]
        }
      ]
    },
    {
      "cell_type": "code",
      "source": [
        "# Plot ROC curves for all classes\n",
        "plot_roc_for_all_classes(roc_data, num_labels=10)"
      ],
      "metadata": {
        "colab": {
          "base_uri": "https://localhost:8080/",
          "height": 718
        },
        "id": "6oMPnyyP_2sp",
        "outputId": "f97fe307-a9c0-4bef-9f43-8ac5ba76dc60"
      },
      "execution_count": 84,
      "outputs": [
        {
          "output_type": "display_data",
          "data": {
            "text/plain": [
              "<Figure size 1000x800 with 1 Axes>"
            ],
            "image/png": "[encoded data removed]"
          },
          "metadata": {}
        }
      ]
    }
  ],
  "metadata": {
    "anaconda-cloud": {},
    "colab": {
      "toc_visible": true,
      "provenance": [],
      "collapsed_sections": [
        "eiSXqKTEH1fX"
      ]
    },
    "kernelspec": {
      "display_name": "Python 3 (ipykernel)",
      "language": "python",
      "name": "python3"
    },
    "language_info": {
      "codemirror_mode": {
        "name": "ipython",
        "version": 3
      },
      "file_extension": ".py",
      "mimetype": "text/x-python",
      "name": "python",
      "nbconvert_exporter": "python",
      "pygments_lexer": "ipython3",
      "version": "3.10.6"
    }
  },
  "nbformat": 4,
  "nbformat_minor": 0
}
